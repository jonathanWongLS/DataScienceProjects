{
 "cells": [
  {
   "cell_type": "markdown",
   "metadata": {},
   "source": [
    "# FIT1043 Introduction to Data Science "
   ]
  },
  {
   "cell_type": "markdown",
   "metadata": {},
   "source": [
    "## Assignment 2"
   ]
  },
  {
   "cell_type": "markdown",
   "metadata": {},
   "source": [
    "#### Name: Jonathan Wong Leong Shan\n",
    "#### Student ID: 31435297"
   ]
  },
  {
   "cell_type": "markdown",
   "metadata": {},
   "source": [
    "___"
   ]
  },
  {
   "cell_type": "markdown",
   "metadata": {},
   "source": [
    "# 1. Introduction"
   ]
  },
  {
   "cell_type": "markdown",
   "metadata": {},
   "source": [
    "The purpose of this assignment is to read and describe the essay features data using basic statistics, split the dataset into training, testing and carry out predictions on given datasets.\n",
    "\n",
    "This assignment conducts multi-class classification using Support Vector Machine / Regression (SVM), using the Quadratic Weighted Kappa (QWM) to measure similarities between predicted and actual scores and to carry out independent model evaluation through submission for an in-class Kaggle competition.\n",
    "\n",
    "The data includes 17 essay features, essay ID numbers and their scores based on these features."
   ]
  },
  {
   "cell_type": "markdown",
   "metadata": {},
   "source": [
    "The report's rough outline is as follows:"
   ]
  },
  {
   "cell_type": "markdown",
   "metadata": {},
   "source": [
    "1. Introduction\n",
    "2. Supervised Learning\n",
    "3. Classification\n",
    "4. Kaggle Submission\n",
    "5. Conclusion\n"
   ]
  },
  {
   "cell_type": "code",
   "execution_count": 1,
   "metadata": {},
   "outputs": [],
   "source": [
    "import pandas as pd\n",
    "import numpy as np\n",
    "import matplotlib.pyplot as plt\n",
    "%matplotlib inline\n",
    "import random\n",
    "from sklearn.model_selection import train_test_split\n",
    "from sklearn.preprocessing import StandardScaler\n",
    "from sklearn.svm import SVC\n",
    "from sklearn.metrics import confusion_matrix\n",
    "\n",
    "data = pd.read_csv('FIT1043-Essay-Features.csv')"
   ]
  },
  {
   "cell_type": "code",
   "execution_count": 2,
   "metadata": {},
   "outputs": [
    {
     "data": {
      "text/html": [
       "<div>\n",
       "<style scoped>\n",
       "    .dataframe tbody tr th:only-of-type {\n",
       "        vertical-align: middle;\n",
       "    }\n",
       "\n",
       "    .dataframe tbody tr th {\n",
       "        vertical-align: top;\n",
       "    }\n",
       "\n",
       "    .dataframe thead th {\n",
       "        text-align: right;\n",
       "    }\n",
       "</style>\n",
       "<table border=\"1\" class=\"dataframe\">\n",
       "  <thead>\n",
       "    <tr style=\"text-align: right;\">\n",
       "      <th></th>\n",
       "      <th>essayid</th>\n",
       "      <th>chars</th>\n",
       "      <th>words</th>\n",
       "      <th>commas</th>\n",
       "      <th>apostrophes</th>\n",
       "      <th>punctuations</th>\n",
       "      <th>avg_word_length</th>\n",
       "      <th>sentences</th>\n",
       "      <th>questions</th>\n",
       "      <th>avg_word_sentence</th>\n",
       "      <th>POS</th>\n",
       "      <th>POS/total_words</th>\n",
       "      <th>prompt_words</th>\n",
       "      <th>prompt_words/total_words</th>\n",
       "      <th>synonym_words</th>\n",
       "      <th>synonym_words/total_words</th>\n",
       "      <th>unstemmed</th>\n",
       "      <th>stemmed</th>\n",
       "      <th>score</th>\n",
       "    </tr>\n",
       "  </thead>\n",
       "  <tbody>\n",
       "    <tr>\n",
       "      <th>0</th>\n",
       "      <td>1457</td>\n",
       "      <td>2153</td>\n",
       "      <td>426</td>\n",
       "      <td>14</td>\n",
       "      <td>6</td>\n",
       "      <td>0</td>\n",
       "      <td>5.053991</td>\n",
       "      <td>16</td>\n",
       "      <td>0</td>\n",
       "      <td>26.625000</td>\n",
       "      <td>423.995272</td>\n",
       "      <td>0.995294</td>\n",
       "      <td>207</td>\n",
       "      <td>0.485915</td>\n",
       "      <td>105</td>\n",
       "      <td>0.246479</td>\n",
       "      <td>424</td>\n",
       "      <td>412</td>\n",
       "      <td>4</td>\n",
       "    </tr>\n",
       "    <tr>\n",
       "      <th>1</th>\n",
       "      <td>503</td>\n",
       "      <td>1480</td>\n",
       "      <td>292</td>\n",
       "      <td>9</td>\n",
       "      <td>7</td>\n",
       "      <td>0</td>\n",
       "      <td>5.068493</td>\n",
       "      <td>11</td>\n",
       "      <td>0</td>\n",
       "      <td>26.545455</td>\n",
       "      <td>290.993103</td>\n",
       "      <td>0.996552</td>\n",
       "      <td>148</td>\n",
       "      <td>0.506849</td>\n",
       "      <td>77</td>\n",
       "      <td>0.263699</td>\n",
       "      <td>356</td>\n",
       "      <td>345</td>\n",
       "      <td>4</td>\n",
       "    </tr>\n",
       "    <tr>\n",
       "      <th>2</th>\n",
       "      <td>253</td>\n",
       "      <td>3964</td>\n",
       "      <td>849</td>\n",
       "      <td>19</td>\n",
       "      <td>26</td>\n",
       "      <td>1</td>\n",
       "      <td>4.669022</td>\n",
       "      <td>49</td>\n",
       "      <td>2</td>\n",
       "      <td>17.326531</td>\n",
       "      <td>843.990544</td>\n",
       "      <td>0.994100</td>\n",
       "      <td>285</td>\n",
       "      <td>0.335689</td>\n",
       "      <td>130</td>\n",
       "      <td>0.153121</td>\n",
       "      <td>750</td>\n",
       "      <td>750</td>\n",
       "      <td>4</td>\n",
       "    </tr>\n",
       "    <tr>\n",
       "      <th>3</th>\n",
       "      <td>107</td>\n",
       "      <td>988</td>\n",
       "      <td>210</td>\n",
       "      <td>8</td>\n",
       "      <td>7</td>\n",
       "      <td>0</td>\n",
       "      <td>4.704762</td>\n",
       "      <td>12</td>\n",
       "      <td>0</td>\n",
       "      <td>17.500000</td>\n",
       "      <td>207.653784</td>\n",
       "      <td>0.988828</td>\n",
       "      <td>112</td>\n",
       "      <td>0.533333</td>\n",
       "      <td>62</td>\n",
       "      <td>0.295238</td>\n",
       "      <td>217</td>\n",
       "      <td>209</td>\n",
       "      <td>3</td>\n",
       "    </tr>\n",
       "    <tr>\n",
       "      <th>4</th>\n",
       "      <td>1450</td>\n",
       "      <td>3139</td>\n",
       "      <td>600</td>\n",
       "      <td>13</td>\n",
       "      <td>8</td>\n",
       "      <td>0</td>\n",
       "      <td>5.231667</td>\n",
       "      <td>24</td>\n",
       "      <td>1</td>\n",
       "      <td>25.000000</td>\n",
       "      <td>594.652150</td>\n",
       "      <td>0.991087</td>\n",
       "      <td>255</td>\n",
       "      <td>0.425000</td>\n",
       "      <td>165</td>\n",
       "      <td>0.275000</td>\n",
       "      <td>702</td>\n",
       "      <td>677</td>\n",
       "      <td>4</td>\n",
       "    </tr>\n",
       "  </tbody>\n",
       "</table>\n",
       "</div>"
      ],
      "text/plain": [
       "   essayid  chars  words  commas  apostrophes  punctuations  avg_word_length  \\\n",
       "0     1457   2153    426      14            6             0         5.053991   \n",
       "1      503   1480    292       9            7             0         5.068493   \n",
       "2      253   3964    849      19           26             1         4.669022   \n",
       "3      107    988    210       8            7             0         4.704762   \n",
       "4     1450   3139    600      13            8             0         5.231667   \n",
       "\n",
       "   sentences  questions  avg_word_sentence         POS  POS/total_words  \\\n",
       "0         16          0          26.625000  423.995272         0.995294   \n",
       "1         11          0          26.545455  290.993103         0.996552   \n",
       "2         49          2          17.326531  843.990544         0.994100   \n",
       "3         12          0          17.500000  207.653784         0.988828   \n",
       "4         24          1          25.000000  594.652150         0.991087   \n",
       "\n",
       "   prompt_words  prompt_words/total_words  synonym_words  \\\n",
       "0           207                  0.485915            105   \n",
       "1           148                  0.506849             77   \n",
       "2           285                  0.335689            130   \n",
       "3           112                  0.533333             62   \n",
       "4           255                  0.425000            165   \n",
       "\n",
       "   synonym_words/total_words  unstemmed  stemmed  score  \n",
       "0                   0.246479        424      412      4  \n",
       "1                   0.263699        356      345      4  \n",
       "2                   0.153121        750      750      4  \n",
       "3                   0.295238        217      209      3  \n",
       "4                   0.275000        702      677      4  "
      ]
     },
     "execution_count": 2,
     "metadata": {},
     "output_type": "execute_result"
    }
   ],
   "source": [
    "data.head() # Visualise the first 5 rows of the file"
   ]
  },
  {
   "cell_type": "code",
   "execution_count": 3,
   "metadata": {},
   "outputs": [
    {
     "data": {
      "text/plain": [
       "(1332, 19)"
      ]
     },
     "execution_count": 3,
     "metadata": {},
     "output_type": "execute_result"
    }
   ],
   "source": [
    "data.shape # Identify how many rows and columns are in the file"
   ]
  },
  {
   "cell_type": "markdown",
   "metadata": {},
   "source": [
    "### b. Importing the necessary libraries, read the file (‘FIT1043-EssayFeatures.csv‘), and provide some description of the data you have read (you do not need to repeat the description given in this file for each field)\n",
    "\n",
    "The data in the CSV file named \"FIT1043-Essay-Features\" contains features of an essay which contribute to the respective score number from 1 to 6. \n",
    "This data has 1332 rows and 19 columns. Each essay is identified with its essayid."
   ]
  },
  {
   "cell_type": "markdown",
   "metadata": {},
   "source": [
    "# 2. Supervised Learning "
   ]
  },
  {
   "cell_type": "markdown",
   "metadata": {},
   "source": [
    "### a. Explain supervised machine learning, the notion of labelled data, and the training and test datasets."
   ]
  },
  {
   "cell_type": "markdown",
   "metadata": {},
   "source": [
    "Supervised machine learning is the process of an algorithm learning from the training data set where the algorithm develops a predictive model based on input and ouput data. Then, the algorithm runs evaluation on test data sets to ensure its predictions are accurate enough.\n",
    "\n",
    "Labelled data are raw data which are identified and has been labelled with an informative label which gives context for the machine learning model to learn from it. In supervised machine learning, all data is labelled which means that we know the correct answers for the next output variables. Based on these labelled data sets, it learns to predict and deduce quite accurately what the next output variable would be.  \n",
    "\n",
    "Two non-overlapping datasets can be obtained by splitting the data we have into the training set and the test set.\n",
    "\n",
    "- Training set is used to do machine learning and the building of the model\n",
    "- Test set is used by the algorithm to run evaluation on it and based on the predicted output data, we can compare it with the true test set's output variable to compare its accuracy.\n",
    "\n",
    "Typically, the training set has a higher proportion as compared to the test set because the more data is used for training, the more accurate the algorithm's predictions will be.\n",
    "\n"
   ]
  },
  {
   "cell_type": "markdown",
   "metadata": {},
   "source": [
    "### b. Separate the features and the label (Hint: the label in this case is the ‘score’)"
   ]
  },
  {
   "cell_type": "code",
   "execution_count": 4,
   "metadata": {},
   "outputs": [],
   "source": [
    "X = data.iloc[:,1:17].values # Obtaining the essay features\n",
    "y = data.iloc[:,18].values   # Obtaining the scores of the essays"
   ]
  },
  {
   "cell_type": "markdown",
   "metadata": {},
   "source": [
    "### c. Use the sklearn.model_selection.train_test_split function to split your data for training and testing."
   ]
  },
  {
   "cell_type": "markdown",
   "metadata": {},
   "source": [
    "Assuming 75% is kept for the training data and 25% for the testing data."
   ]
  },
  {
   "cell_type": "code",
   "execution_count": 5,
   "metadata": {},
   "outputs": [],
   "source": [
    "# Split essay features and scores data into non-overlapping 80% training and 20% testing data \n",
    "X_train, X_test, y_train, y_test = train_test_split(\n",
    "    X, y, test_size = 0.35, random_state = 0\n",
    ")"
   ]
  },
  {
   "cell_type": "markdown",
   "metadata": {},
   "source": [
    "# 3. Classification"
   ]
  },
  {
   "cell_type": "markdown",
   "metadata": {},
   "source": [
    "### a. Explain the difference between binary and multi-class classification"
   ]
  },
  {
   "cell_type": "markdown",
   "metadata": {},
   "source": [
    "Binary classification is the process of classifying a set's elements into two groups. For example, if a fish is either Tuna or Bass where both Tuna and Bass are two different classes.\n",
    "\n",
    "Multi-class classification means categorizing data into more than two classes based on their similarities. For example, we can identify what species of a plant is based on multiple features such as petal length, petal width, color and other features."
   ]
  },
  {
   "cell_type": "markdown",
   "metadata": {},
   "source": [
    "### b. In preparation for Support Vector Machine/Regression, your data should be normalised/scaled."
   ]
  },
  {
   "cell_type": "markdown",
   "metadata": {},
   "source": [
    "#### i. Describe what you understand from this need to normalise data (this is in your Week 7 tutorial/laboratory)."
   ]
  },
  {
   "cell_type": "markdown",
   "metadata": {},
   "source": [
    "Normalization of data is the process of scaling data sets so they have a mean of 0 and a certain standard deviation. This is so that each feature contributes proportionately to the final result. In this assignment, normalizing the data allows each essay feature to contribute proportionately to the score of each essay "
   ]
  },
  {
   "cell_type": "markdown",
   "metadata": {},
   "source": [
    "#### ii. Choose and use the appropriate normalisation functions available in sklearn.preprocessing and scale the data appropriately"
   ]
  },
  {
   "cell_type": "code",
   "execution_count": 6,
   "metadata": {},
   "outputs": [],
   "source": [
    "## Carry out feature scaling on training and test data\n",
    "# sc = StandardScaler()\n",
    "# X_train = sc.fit_transform(X_train) \n",
    "# X_test = sc.transform(X_test)"
   ]
  },
  {
   "cell_type": "markdown",
   "metadata": {},
   "source": [
    "### c. Use the Support Vector Machine/Regression algorithm to build the model."
   ]
  },
  {
   "cell_type": "markdown",
   "metadata": {},
   "source": [
    "#### i. Describe SVM (in relation to Linear Regression). "
   ]
  },
  {
   "attachments": {
    "image-4.png": {
     "image/png": "[encoded data removed]"
    },
    "image-5.png": {
     "image/png": "[encoded data removed]"
    }
   },
   "cell_type": "markdown",
   "metadata": {},
   "source": [
    "By definition, a Support Vector Machine is a supervised machine learning algorithm that can be employed for both classification and regression purposes.\n",
    "\n",
    "However, to further describe an SVM, we can imagine a linearly separable dataset which means we can simply draw a line between two groups of data making it possible to classify any new data into their related class.\n",
    "\n",
    "![image-4.png](attachment:image-4.png)\n",
    "\n",
    "However, problems arises when more data are taken into account because the same line separating both classes should, most of the time, not look the same for the new extended dataset. A linear classifier, which separate data using a line or plane or a hyperplane, does not find the best decision boundary in the dataset and there might be multiple decision boundaries.\n",
    "\n",
    "In cases like this, SVM or Support Vector Machine algorithms can handle these problems very well as they maximize the margin using the support vectors.\n",
    "\n",
    "![image-5.png](attachment:image-5.png)\n",
    "\n",
    "SVM algorithms are commonly called maximum-margin classifiers. This can be explained by referring to the image above. \n",
    "\n",
    "    Before I explain it, it is important to know that margin means the dist-ance from the closest vectors to  ㅤthe line and those vectors closest ㅤto the line are called support vectors. \n",
    "    \n",
    "From the image, it is obvious H1 does not separate all distinct data into its own classes as some black data points are in the same class with the white data points. Line H2 does separate both classes but it is possible to find a line which separates both classes and has a larger margin. That line is H3 as the distance between the support vectors to the line is the furthest, therefore has the maximum margin. The data points or vectors helps in finding the optimum decision boundary and that is why they are called support vectors."
   ]
  },
  {
   "cell_type": "markdown",
   "metadata": {},
   "source": [
    "#### ii. In SVM/SVR, there is something called the kernel. Explain what you understand from it."
   ]
  },
  {
   "cell_type": "markdown",
   "metadata": {},
   "source": [
    "Kernels are a set of mathematical functions that take data as input then computes the required result. These kernels are beneficial when the data is not linearly separable they are capable of changing the shape of the dataset without changing the relationships between the data. Doing this allows us to find a function that maps the non-linearly separable dataset into a dataset that is linearly separable."
   ]
  },
  {
   "cell_type": "markdown",
   "metadata": {},
   "source": [
    "#### iii. Write the code to build the model using your training dataset. (Note: You are allowed to engineer or remove features as you deem appropriate)\n"
   ]
  },
  {
   "cell_type": "code",
   "execution_count": 7,
   "metadata": {},
   "outputs": [
    {
     "data": {
      "text/plain": [
       "SVC(kernel='linear')"
      ]
     },
     "execution_count": 7,
     "metadata": {},
     "output_type": "execute_result"
    }
   ],
   "source": [
    "# Build a model with linear kernel\n",
    "SVM_Model = SVC(kernel = 'linear') \n",
    "SVM_Model.fit(X_train,y_train)"
   ]
  },
  {
   "cell_type": "markdown",
   "metadata": {},
   "source": [
    "### d. Predict"
   ]
  },
  {
   "cell_type": "markdown",
   "metadata": {},
   "source": [
    "#### i. Using the testing dataset you created in 2(c) above, conduct the prediction for the ‘score’ (label)."
   ]
  },
  {
   "cell_type": "code",
   "execution_count": 8,
   "metadata": {},
   "outputs": [],
   "source": [
    "# Predict the scores using the model created\n",
    "y_pred = SVM_Model.predict(X_test)"
   ]
  },
  {
   "cell_type": "code",
   "execution_count": 9,
   "metadata": {},
   "outputs": [
    {
     "data": {
      "text/plain": [
       "0.6659528907922913"
      ]
     },
     "execution_count": 9,
     "metadata": {},
     "output_type": "execute_result"
    }
   ],
   "source": [
    "SVM_Model.score(X_test, y_test)"
   ]
  },
  {
   "cell_type": "markdown",
   "metadata": {},
   "source": [
    "#### ii. Display the confusion matrix (it should look like a 6x6 matrix). Unlike the lectures, where it is just a 2x2, you are now introduced to a multclass classification."
   ]
  },
  {
   "cell_type": "code",
   "execution_count": 10,
   "metadata": {},
   "outputs": [
    {
     "data": {
      "text/plain": [
       "array([[  0,   2,   0,   0,   0,   0],\n",
       "       [  1,  16,  16,   1,   0,   0],\n",
       "       [  0,   2, 139,  53,   1,   0],\n",
       "       [  0,   0,  54, 153,   4,   0],\n",
       "       [  0,   0,   1,  19,   3,   0],\n",
       "       [  0,   0,   0,   2,   0,   0]], dtype=int64)"
      ]
     },
     "execution_count": 10,
     "metadata": {},
     "output_type": "execute_result"
    }
   ],
   "source": [
    "# Computing the 6x6 confusion matrix\n",
    "cm = confusion_matrix(y_test,y_pred)\n",
    "cm"
   ]
  },
  {
   "cell_type": "markdown",
   "metadata": {},
   "source": [
    "#### iii. Explain Quadratic Weighted Kappa (QWK). "
   ]
  },
  {
   "cell_type": "markdown",
   "metadata": {},
   "source": [
    "The Quadratic Weighted Kappa measures the agreement between two ratings. The metric of QWK can be from 0 to 1 where 0 means there is a random agreement between the raters whereas 1 means all the raters agree. The QWK is calculated between the known scores and the predicted scores."
   ]
  },
  {
   "cell_type": "markdown",
   "metadata": {},
   "source": [
    "#### iv. Use the sklearn.metrics library to code and obtain the QWK score."
   ]
  },
  {
   "cell_type": "code",
   "execution_count": 11,
   "metadata": {},
   "outputs": [],
   "source": [
    "# Assign the copy of Confusion Matrix to variable O\n",
    "O = cm.copy()"
   ]
  },
  {
   "cell_type": "code",
   "execution_count": 12,
   "metadata": {},
   "outputs": [],
   "source": [
    "# Weighted Matrix\n",
    "#   An N-by-N matrix of weights, w is calculated based on the difference \n",
    "#   between actual and predicted rating scores \n",
    "w = np.zeros((6,6))"
   ]
  },
  {
   "attachments": {
    "image.png": {
     "image/png": "[encoded data removed]"
    }
   },
   "cell_type": "markdown",
   "metadata": {},
   "source": [
    "Compute the weighted matrix with formula:\n",
    "![image.png](attachment:image.png)"
   ]
  },
  {
   "cell_type": "code",
   "execution_count": 13,
   "metadata": {},
   "outputs": [],
   "source": [
    "# The weighted matrix is calculated below\n",
    "N = 6\n",
    "for i in range(len(w)):\n",
    "    for j in range(len(w)):\n",
    "        w[i][j] = float( ( (i - j)**2) / (N-1)**2 )\n",
    "        \n",
    "# Calculation of actual histogram vector\n",
    "y_actual_hist = np.zeros([N])\n",
    "\n",
    "for i in y_test:\n",
    "    y_actual_hist[i-1] += 1\n",
    "    \n",
    "# Calculation of predicted histogram vector\n",
    "y_pred_hist=np.zeros([N]) \n",
    "for i in y_pred: \n",
    "    y_pred_hist[i-1]+=1    "
   ]
  },
  {
   "cell_type": "code",
   "execution_count": 14,
   "metadata": {},
   "outputs": [],
   "source": [
    "# Calculate the expected matrix E\n",
    "E = np.outer(y_actual_hist, y_pred_hist)"
   ]
  },
  {
   "cell_type": "code",
   "execution_count": 15,
   "metadata": {},
   "outputs": [],
   "source": [
    "# Normalize E and O so they have the same sum\n",
    "E = E/E.sum()\n",
    "\n",
    "O = O/O.sum()\n"
   ]
  },
  {
   "attachments": {
    "image.png": {
     "image/png": "[encoded data removed]"
    }
   },
   "cell_type": "markdown",
   "metadata": {},
   "source": [
    "Calculate Quadratic Weighted Kappa (QWK). Formula:\n",
    "![image.png](attachment:image.png)"
   ]
  },
  {
   "cell_type": "code",
   "execution_count": 16,
   "metadata": {},
   "outputs": [
    {
     "name": "stdout",
     "output_type": "stream",
     "text": [
      "The QWK value is 0.6052\n"
     ]
    }
   ],
   "source": [
    "# Calculate and display the QWK value in string format.\n",
    "num = 0\n",
    "den = 0\n",
    "\n",
    "for i in range(len(w)):\n",
    "    for j in range(len(w)):\n",
    "        num += w[i][j]*O[i][j]\n",
    "        den += w[i][j]*E[i][j]\n",
    "    \n",
    "result = num/den\n",
    "QWK = (1-result)\n",
    "print('The QWK value is {}'.format(round(QWK,4)))"
   ]
  },
  {
   "cell_type": "markdown",
   "metadata": {},
   "source": [
    "# 4. Kaggle Submission"
   ]
  },
  {
   "cell_type": "markdown",
   "metadata": {},
   "source": [
    "#### a. Read the ‘FIT1043-Essay-Features-Submission.csv’ file and use the model you built earlier to predict the ‘score’."
   ]
  },
  {
   "cell_type": "code",
   "execution_count": 17,
   "metadata": {},
   "outputs": [],
   "source": [
    "# Read FIT1043-Essay-Features-Submission.csv\n",
    "data_sub = pd.read_csv(\"FIT1043-Essay-Features-Submission.csv\")"
   ]
  },
  {
   "cell_type": "code",
   "execution_count": 18,
   "metadata": {},
   "outputs": [],
   "source": [
    "# Extract the essay features (excludes essayid)\n",
    "X_sub = data_sub.iloc[:, 1:17].values"
   ]
  },
  {
   "cell_type": "code",
   "execution_count": 19,
   "metadata": {},
   "outputs": [],
   "source": [
    "# Predict the scores for the essays based on their features in X_sub\n",
    "y_sub_pred = SVM_Model.predict(X_sub)"
   ]
  },
  {
   "cell_type": "code",
   "execution_count": 20,
   "metadata": {},
   "outputs": [],
   "source": [
    "# Put all the predicted value of the scores into a dataframe\n",
    "y_sub_pred = pd.DataFrame(y_sub_pred) "
   ]
  },
  {
   "cell_type": "code",
   "execution_count": 21,
   "metadata": {},
   "outputs": [],
   "source": [
    "# Read the csv file used to submit predictions\n",
    "answer_file = pd.read_csv(\"31435297-JonathanWongLeongShan-1.csv\")"
   ]
  },
  {
   "cell_type": "code",
   "execution_count": 22,
   "metadata": {},
   "outputs": [],
   "source": [
    "# Replace NaN values in score column with predicted values\n",
    "answer_file[\"score\"] = y_sub_pred\n",
    "answer_file.reset_index(drop=True,inplace=True)"
   ]
  },
  {
   "cell_type": "code",
   "execution_count": 23,
   "metadata": {},
   "outputs": [],
   "source": [
    "# Save the modified file containing the predicted score values\n",
    "answer_file.to_csv('31435297-JonathanWongLeongShan-1.csv', index=False)"
   ]
  },
  {
   "cell_type": "markdown",
   "metadata": {},
   "source": [
    "# 5. Conclusion"
   ]
  },
  {
   "cell_type": "markdown",
   "metadata": {},
   "source": [
    "Using the model, we evaluated the test data set and obtained a QWK score of 0.6312 which is a fairly good score. This means that the model is agreed by enough raters to be better than average.\n",
    "\n",
    "When the model is applied to the essays in FIT1043-Essay-Features-Submission.csv, the scores column has a majority of 4 scores and has a minimum number of 2 scores. "
   ]
  },
  {
   "cell_type": "markdown",
   "metadata": {},
   "source": [
    "# 6. References"
   ]
  },
  {
   "cell_type": "markdown",
   "metadata": {},
   "source": [
    "[1] “Understanding SVM and SVR for Classification and Regression – MachineCurve,” MachineCurve, Sep. 20, 2019. https://www.machinecurve.com/index.php/2019/09/20/intuitively-understanding-svm-and-svr/#what-if-data-is-not-linearly-separable-kernels (accessed Apr. 29, 2021).\n",
    "\n",
    "[2] Kunaal Naik, “Machine Learning Tutorial with sklearn SVM Classification (SVC),” YouTube. Mar. 18, 2020, Accessed: Apr. 29, 2021. [Online]. Available: https://www.youtube.com/watch?v=KHGXpnueZlc.\n",
    "\n",
    "[3] C. Maklin, “Support Vector Machine Python Example - Towards Data Science,” Medium, Aug. 12, 2019. https://towardsdatascience.com/support-vector-machine-python-example-d67d9b63f1c8 (accessed Apr. 29, 2021).\n",
    "\n",
    "[4] prashant111, “Simple Explanation of Quadratic Weighted Kappa,” Kaggle.com, Apr. 24, 2020. https://www.kaggle.com/prashant111/simple-explanation-of-quadratic-weighted-kappa (accessed Apr. 29, 2021).\n",
    "\n",
    "[5] “Master Machine Learning Algorithms,” Google Books, 2011. https://books.google.com.my/books/about/Master_Machine_Learning_Algorithms.html?id=n--oDwAAQBAJ&printsec=frontcover&source=kp_read_button&redir_esc=y#v=onepage&q&f=false (accessed Apr. 29, 2021).\n",
    "‌\n"
   ]
  }
 ],
 "metadata": {
  "kernelspec": {
   "display_name": "Python 3 (ipykernel)",
   "language": "python",
   "name": "python3"
  },
  "language_info": {
   "codemirror_mode": {
    "name": "ipython",
    "version": 3
   },
   "file_extension": ".py",
   "mimetype": "text/x-python",
   "name": "python",
   "nbconvert_exporter": "python",
   "pygments_lexer": "ipython3",
   "version": "3.9.12"
  },
  "vscode": {
   "interpreter": {
    "hash": "3b7e9cb8e453d6cda0fe8c8dd13f891a1f09162f0e7c66ffeae7751a7aecf00d"
   }
  }
 },
 "nbformat": 4,
 "nbformat_minor": 4
}
