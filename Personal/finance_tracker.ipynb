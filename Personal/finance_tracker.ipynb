{
 "cells": [
  {
   "cell_type": "markdown",
   "id": "5b8d1612",
   "metadata": {},
   "source": [
    "# Personal Project #1 : Personal Finance and Budgeting\n",
    "* In this project, a finance statement dataset in CSV format is downloaded from \"E for Excel\" for analysis and future financial related predictions such as the expenditure which we will assume is equivalent to the amount of money withdrawn from the bank account.\n",
    "* The predictions will be done by a trained linear regression model where it assumes a linear relationship between the years and the amount of money spent/withdrawn\n",
    "* Creating this allows users to observe their spendings and possibly improve their budgeting in the long term\n",
    "* Link to datasets: https://eforexcel.com/wp/downloads-20-sample-csv-files-data-sets-for-testing-till-2-million-records-bank "
   ]
  },
  {
   "cell_type": "markdown",
   "id": "8d8c3e41",
   "metadata": {},
   "source": [
    "### 1. Import necessary libraries and read the financial statement to a data frame"
   ]
  },
  {
   "cell_type": "code",
   "execution_count": 1,
   "id": "2ab03acb",
   "metadata": {},
   "outputs": [],
   "source": [
    "import pandas as pd\n",
    "import matplotlib.pyplot as plt\n",
    "import numpy as np\n",
    "from sklearn.linear_model import LinearRegression\n",
    "%matplotlib inline"
   ]
  },
  {
   "cell_type": "code",
   "execution_count": 36,
   "id": "93342bc0",
   "metadata": {},
   "outputs": [],
   "source": [
    "import warnings\n",
    "warnings.filterwarnings('ignore')"
   ]
  },
  {
   "cell_type": "code",
   "execution_count": 2,
   "id": "fd700420",
   "metadata": {},
   "outputs": [],
   "source": [
    "# Read csv file of bank statement records (Link: https://eforexcel.com/wp/downloads-20-sample-csv-files-data-sets-for-testing-till-2-million-records-bank-transactions/) \n",
    "df = pd.read_csv(\"5000000 BT Records.csv\")"
   ]
  },
  {
   "cell_type": "markdown",
   "id": "617f1d32",
   "metadata": {},
   "source": [
    "### 2. Analyse the data and clean data, if needed"
   ]
  },
  {
   "cell_type": "markdown",
   "id": "d1790f43",
   "metadata": {},
   "source": [
    "* Observe the first and last 10 rows of the dataset given"
   ]
  },
  {
   "cell_type": "code",
   "execution_count": 3,
   "id": "7bb8c338",
   "metadata": {
    "scrolled": true
   },
   "outputs": [
    {
     "data": {
      "text/html": [
       "<div>\n",
       "<style scoped>\n",
       "    .dataframe tbody tr th:only-of-type {\n",
       "        vertical-align: middle;\n",
       "    }\n",
       "\n",
       "    .dataframe tbody tr th {\n",
       "        vertical-align: top;\n",
       "    }\n",
       "\n",
       "    .dataframe thead th {\n",
       "        text-align: right;\n",
       "    }\n",
       "</style>\n",
       "<table border=\"1\" class=\"dataframe\">\n",
       "  <thead>\n",
       "    <tr style=\"text-align: right;\">\n",
       "      <th></th>\n",
       "      <th>Date</th>\n",
       "      <th>Description</th>\n",
       "      <th>Deposits</th>\n",
       "      <th>Withdrawls</th>\n",
       "      <th>Balance</th>\n",
       "    </tr>\n",
       "  </thead>\n",
       "  <tbody>\n",
       "    <tr>\n",
       "      <th>0</th>\n",
       "      <td>21-Aug-2020</td>\n",
       "      <td>Reversal</td>\n",
       "      <td>00.00</td>\n",
       "      <td>10,612.64</td>\n",
       "      <td>53,063.19</td>\n",
       "    </tr>\n",
       "    <tr>\n",
       "      <th>1</th>\n",
       "      <td>21-Aug-2020</td>\n",
       "      <td>Commission</td>\n",
       "      <td>00.00</td>\n",
       "      <td>26,531.60</td>\n",
       "      <td>26,531.60</td>\n",
       "    </tr>\n",
       "    <tr>\n",
       "      <th>2</th>\n",
       "      <td>21-Aug-2020</td>\n",
       "      <td>Debit Card</td>\n",
       "      <td>00.00</td>\n",
       "      <td>8,843.87</td>\n",
       "      <td>17,687.73</td>\n",
       "    </tr>\n",
       "    <tr>\n",
       "      <th>3</th>\n",
       "      <td>21-Aug-2020</td>\n",
       "      <td>Cash</td>\n",
       "      <td>23,475.67</td>\n",
       "      <td>00.00</td>\n",
       "      <td>41,163.40</td>\n",
       "    </tr>\n",
       "    <tr>\n",
       "      <th>4</th>\n",
       "      <td>21-Aug-2020</td>\n",
       "      <td>Interest</td>\n",
       "      <td>00.00</td>\n",
       "      <td>5,145.43</td>\n",
       "      <td>36,017.98</td>\n",
       "    </tr>\n",
       "    <tr>\n",
       "      <th>5</th>\n",
       "      <td>21-Aug-2020</td>\n",
       "      <td>Bill</td>\n",
       "      <td>11.52</td>\n",
       "      <td>00.00</td>\n",
       "      <td>36,029.50</td>\n",
       "    </tr>\n",
       "    <tr>\n",
       "      <th>6</th>\n",
       "      <td>21-Aug-2020</td>\n",
       "      <td>Reversal</td>\n",
       "      <td>00.00</td>\n",
       "      <td>3,602.95</td>\n",
       "      <td>32,426.55</td>\n",
       "    </tr>\n",
       "    <tr>\n",
       "      <th>7</th>\n",
       "      <td>21-Aug-2020</td>\n",
       "      <td>Purchase</td>\n",
       "      <td>00.00</td>\n",
       "      <td>8,106.64</td>\n",
       "      <td>24,319.91</td>\n",
       "    </tr>\n",
       "    <tr>\n",
       "      <th>8</th>\n",
       "      <td>21-Aug-2020</td>\n",
       "      <td>Cheque</td>\n",
       "      <td>00.00</td>\n",
       "      <td>3,474.27</td>\n",
       "      <td>20,845.64</td>\n",
       "    </tr>\n",
       "    <tr>\n",
       "      <th>9</th>\n",
       "      <td>21-Aug-2020</td>\n",
       "      <td>Reversal</td>\n",
       "      <td>00.00</td>\n",
       "      <td>2,605.71</td>\n",
       "      <td>18,239.93</td>\n",
       "    </tr>\n",
       "  </tbody>\n",
       "</table>\n",
       "</div>"
      ],
      "text/plain": [
       "          Date Description   Deposits Withdrawls    Balance\n",
       "0  21-Aug-2020    Reversal      00.00  10,612.64  53,063.19\n",
       "1  21-Aug-2020  Commission      00.00  26,531.60  26,531.60\n",
       "2  21-Aug-2020  Debit Card      00.00   8,843.87  17,687.73\n",
       "3  21-Aug-2020        Cash  23,475.67      00.00  41,163.40\n",
       "4  21-Aug-2020    Interest      00.00   5,145.43  36,017.98\n",
       "5  21-Aug-2020        Bill      11.52      00.00  36,029.50\n",
       "6  21-Aug-2020    Reversal      00.00   3,602.95  32,426.55\n",
       "7  21-Aug-2020    Purchase      00.00   8,106.64  24,319.91\n",
       "8  21-Aug-2020      Cheque      00.00   3,474.27  20,845.64\n",
       "9  21-Aug-2020    Reversal      00.00   2,605.71  18,239.93"
      ]
     },
     "execution_count": 3,
     "metadata": {},
     "output_type": "execute_result"
    }
   ],
   "source": [
    "df.head(10)"
   ]
  },
  {
   "cell_type": "code",
   "execution_count": 4,
   "id": "3a664efa",
   "metadata": {
    "scrolled": true
   },
   "outputs": [
    {
     "data": {
      "text/html": [
       "<div>\n",
       "<style scoped>\n",
       "    .dataframe tbody tr th:only-of-type {\n",
       "        vertical-align: middle;\n",
       "    }\n",
       "\n",
       "    .dataframe tbody tr th {\n",
       "        vertical-align: top;\n",
       "    }\n",
       "\n",
       "    .dataframe thead th {\n",
       "        text-align: right;\n",
       "    }\n",
       "</style>\n",
       "<table border=\"1\" class=\"dataframe\">\n",
       "  <thead>\n",
       "    <tr style=\"text-align: right;\">\n",
       "      <th></th>\n",
       "      <th>Date</th>\n",
       "      <th>Description</th>\n",
       "      <th>Deposits</th>\n",
       "      <th>Withdrawls</th>\n",
       "      <th>Balance</th>\n",
       "    </tr>\n",
       "  </thead>\n",
       "  <tbody>\n",
       "    <tr>\n",
       "      <th>4999990</th>\n",
       "      <td>15-Nov-2155</td>\n",
       "      <td>Transfer</td>\n",
       "      <td>00.00</td>\n",
       "      <td>37,828.53</td>\n",
       "      <td>37,828.52</td>\n",
       "    </tr>\n",
       "    <tr>\n",
       "      <th>4999991</th>\n",
       "      <td>15-Nov-2155</td>\n",
       "      <td>NEFT</td>\n",
       "      <td>00.00</td>\n",
       "      <td>37,828.52</td>\n",
       "      <td>00.00</td>\n",
       "    </tr>\n",
       "    <tr>\n",
       "      <th>4999992</th>\n",
       "      <td>15-Nov-2155</td>\n",
       "      <td>Miscellaneous</td>\n",
       "      <td>434.00</td>\n",
       "      <td>00.00</td>\n",
       "      <td>434.00</td>\n",
       "    </tr>\n",
       "    <tr>\n",
       "      <th>4999993</th>\n",
       "      <td>15-Nov-2155</td>\n",
       "      <td>Miscellaneous</td>\n",
       "      <td>00.00</td>\n",
       "      <td>108.50</td>\n",
       "      <td>325.50</td>\n",
       "    </tr>\n",
       "    <tr>\n",
       "      <th>4999994</th>\n",
       "      <td>15-Nov-2155</td>\n",
       "      <td>Bill</td>\n",
       "      <td>00.00</td>\n",
       "      <td>40.69</td>\n",
       "      <td>284.81</td>\n",
       "    </tr>\n",
       "    <tr>\n",
       "      <th>4999995</th>\n",
       "      <td>15-Nov-2155</td>\n",
       "      <td>Interest</td>\n",
       "      <td>89,156.50</td>\n",
       "      <td>00.00</td>\n",
       "      <td>89,441.31</td>\n",
       "    </tr>\n",
       "    <tr>\n",
       "      <th>4999996</th>\n",
       "      <td>15-Nov-2155</td>\n",
       "      <td>Cheque</td>\n",
       "      <td>02.79</td>\n",
       "      <td>00.00</td>\n",
       "      <td>89,444.10</td>\n",
       "    </tr>\n",
       "    <tr>\n",
       "      <th>4999997</th>\n",
       "      <td>15-Nov-2155</td>\n",
       "      <td>IMPS</td>\n",
       "      <td>01.90</td>\n",
       "      <td>00.00</td>\n",
       "      <td>89,446.00</td>\n",
       "    </tr>\n",
       "    <tr>\n",
       "      <th>4999998</th>\n",
       "      <td>15-Nov-2155</td>\n",
       "      <td>Cheque</td>\n",
       "      <td>2,718.40</td>\n",
       "      <td>00.00</td>\n",
       "      <td>92,164.40</td>\n",
       "    </tr>\n",
       "    <tr>\n",
       "      <th>4999999</th>\n",
       "      <td>15-Nov-2155</td>\n",
       "      <td>Cash</td>\n",
       "      <td>33,587.94</td>\n",
       "      <td>00.00</td>\n",
       "      <td>125,752.34</td>\n",
       "    </tr>\n",
       "  </tbody>\n",
       "</table>\n",
       "</div>"
      ],
      "text/plain": [
       "                Date    Description   Deposits Withdrawls     Balance\n",
       "4999990  15-Nov-2155       Transfer      00.00  37,828.53   37,828.52\n",
       "4999991  15-Nov-2155           NEFT      00.00  37,828.52       00.00\n",
       "4999992  15-Nov-2155  Miscellaneous     434.00      00.00      434.00\n",
       "4999993  15-Nov-2155  Miscellaneous      00.00     108.50      325.50\n",
       "4999994  15-Nov-2155           Bill      00.00      40.69      284.81\n",
       "4999995  15-Nov-2155       Interest  89,156.50      00.00   89,441.31\n",
       "4999996  15-Nov-2155         Cheque      02.79      00.00   89,444.10\n",
       "4999997  15-Nov-2155           IMPS      01.90      00.00   89,446.00\n",
       "4999998  15-Nov-2155         Cheque   2,718.40      00.00   92,164.40\n",
       "4999999  15-Nov-2155           Cash  33,587.94      00.00  125,752.34"
      ]
     },
     "execution_count": 4,
     "metadata": {},
     "output_type": "execute_result"
    }
   ],
   "source": [
    "df.tail(10)"
   ]
  },
  {
   "cell_type": "code",
   "execution_count": 5,
   "id": "876ef42f",
   "metadata": {},
   "outputs": [
    {
     "data": {
      "text/html": [
       "<div>\n",
       "<style scoped>\n",
       "    .dataframe tbody tr th:only-of-type {\n",
       "        vertical-align: middle;\n",
       "    }\n",
       "\n",
       "    .dataframe tbody tr th {\n",
       "        vertical-align: top;\n",
       "    }\n",
       "\n",
       "    .dataframe thead th {\n",
       "        text-align: right;\n",
       "    }\n",
       "</style>\n",
       "<table border=\"1\" class=\"dataframe\">\n",
       "  <thead>\n",
       "    <tr style=\"text-align: right;\">\n",
       "      <th></th>\n",
       "      <th>Description</th>\n",
       "      <th>Count</th>\n",
       "    </tr>\n",
       "  </thead>\n",
       "  <tbody>\n",
       "    <tr>\n",
       "      <th>1</th>\n",
       "      <td>Bill</td>\n",
       "      <td>334106</td>\n",
       "    </tr>\n",
       "    <tr>\n",
       "      <th>4</th>\n",
       "      <td>Commission</td>\n",
       "      <td>334050</td>\n",
       "    </tr>\n",
       "    <tr>\n",
       "      <th>9</th>\n",
       "      <td>NEFT</td>\n",
       "      <td>334048</td>\n",
       "    </tr>\n",
       "    <tr>\n",
       "      <th>0</th>\n",
       "      <td>ATM</td>\n",
       "      <td>333819</td>\n",
       "    </tr>\n",
       "    <tr>\n",
       "      <th>8</th>\n",
       "      <td>Miscellaneous</td>\n",
       "      <td>333633</td>\n",
       "    </tr>\n",
       "    <tr>\n",
       "      <th>2</th>\n",
       "      <td>Cash</td>\n",
       "      <td>333392</td>\n",
       "    </tr>\n",
       "    <tr>\n",
       "      <th>12</th>\n",
       "      <td>Reversal</td>\n",
       "      <td>333301</td>\n",
       "    </tr>\n",
       "    <tr>\n",
       "      <th>6</th>\n",
       "      <td>IMPS</td>\n",
       "      <td>333265</td>\n",
       "    </tr>\n",
       "    <tr>\n",
       "      <th>7</th>\n",
       "      <td>Interest</td>\n",
       "      <td>333193</td>\n",
       "    </tr>\n",
       "    <tr>\n",
       "      <th>10</th>\n",
       "      <td>Purchase</td>\n",
       "      <td>333177</td>\n",
       "    </tr>\n",
       "    <tr>\n",
       "      <th>3</th>\n",
       "      <td>Cheque</td>\n",
       "      <td>333036</td>\n",
       "    </tr>\n",
       "    <tr>\n",
       "      <th>14</th>\n",
       "      <td>Transfer</td>\n",
       "      <td>332831</td>\n",
       "    </tr>\n",
       "    <tr>\n",
       "      <th>13</th>\n",
       "      <td>Tax</td>\n",
       "      <td>332733</td>\n",
       "    </tr>\n",
       "    <tr>\n",
       "      <th>11</th>\n",
       "      <td>RTGS</td>\n",
       "      <td>332713</td>\n",
       "    </tr>\n",
       "    <tr>\n",
       "      <th>5</th>\n",
       "      <td>Debit Card</td>\n",
       "      <td>332703</td>\n",
       "    </tr>\n",
       "  </tbody>\n",
       "</table>\n",
       "</div>"
      ],
      "text/plain": [
       "      Description   Count\n",
       "1            Bill  334106\n",
       "4      Commission  334050\n",
       "9            NEFT  334048\n",
       "0             ATM  333819\n",
       "8   Miscellaneous  333633\n",
       "2            Cash  333392\n",
       "12       Reversal  333301\n",
       "6            IMPS  333265\n",
       "7        Interest  333193\n",
       "10       Purchase  333177\n",
       "3          Cheque  333036\n",
       "14       Transfer  332831\n",
       "13            Tax  332733\n",
       "11           RTGS  332713\n",
       "5      Debit Card  332703"
      ]
     },
     "execution_count": 5,
     "metadata": {},
     "output_type": "execute_result"
    }
   ],
   "source": [
    "# Get all unique descriptions from dataset and their number of occurences in descending order \n",
    "df_count = df.groupby(['Description'])['Balance'].count().reset_index(name='Count').sort_values(['Count'], ascending=False)\n",
    "df_count"
   ]
  },
  {
   "cell_type": "markdown",
   "id": "fb15cb74",
   "metadata": {},
   "source": [
    "#### Observations:\n",
    "1. There are 5 columns which contain the: \n",
    "   * Date, \n",
    "   * Description (Description of the transaction), \n",
    "   * Amount deposited, \n",
    "   * Amount withdrawn, \n",
    "   * Account balance, \n",
    "   * The year the transaction was made, \n",
    "   * The month the transaction was made\n",
    "<br></br>\n",
    "2. The date ranges from 21 August 2020 to 15 November 2155\n",
    "<br></br>\n",
    "3. Another observation is when a deposit is made, the withdrawals column will be 00.00 as only one type of transaction can take place at one time\n",
    "<br></br>\n",
    "4. The majority of transactions have the description of \"bills\"\n"
   ]
  },
  {
   "cell_type": "markdown",
   "id": "f08dbd5e",
   "metadata": {},
   "source": [
    "### a. Datatypes"
   ]
  },
  {
   "cell_type": "code",
   "execution_count": 6,
   "id": "79f6374d",
   "metadata": {},
   "outputs": [
    {
     "name": "stdout",
     "output_type": "stream",
     "text": [
      "<class 'pandas.core.frame.DataFrame'>\n",
      "RangeIndex: 5000000 entries, 0 to 4999999\n",
      "Data columns (total 5 columns):\n",
      " #   Column       Dtype \n",
      "---  ------       ----- \n",
      " 0   Date         object\n",
      " 1   Description  object\n",
      " 2   Deposits     object\n",
      " 3   Withdrawls   object\n",
      " 4   Balance      object\n",
      "dtypes: object(5)\n",
      "memory usage: 190.7+ MB\n"
     ]
    }
   ],
   "source": [
    "# Observe how many columns are in the data and their datatypes\n",
    "df.info()"
   ]
  },
  {
   "cell_type": "markdown",
   "id": "c46c2d70",
   "metadata": {},
   "source": [
    "* We can see that all the datatypes are of object type which we CANNOT use for the linear regression model as it requires numeric values to train. \n",
    "* Let's change the datatype of each column to the datatype that makes the most sense. \n",
    "* <b>E.g.</b> We can change the Date column's datatype to Datetime, etc"
   ]
  },
  {
   "cell_type": "code",
   "execution_count": 7,
   "id": "0040bb1f",
   "metadata": {},
   "outputs": [],
   "source": [
    "# Cast datatype of Deposits, Withdrawls and Balance from Object to float\n",
    "df['Deposits'] = df['Deposits'].astype(str).str.replace(',', '').astype(float, errors = 'raise') \n",
    "df['Withdrawls'] = df['Withdrawls'].astype(str).str.replace(',', '').astype(float, errors = 'raise') \n",
    "df['Balance'] = df['Balance'].astype(str).str.replace(',', '').astype(float, errors = 'raise') \n",
    "\n",
    "# Cast datatype of Date from Object to datetime\n",
    "df[\"Date\"] = pd.to_datetime(df[\"Date\"])\n",
    "\n",
    "# Create new columns of Year and Month from Date column\n",
    "df['Year'] = pd.DatetimeIndex(df['Date']).year\n",
    "df['Month'] = pd.DatetimeIndex(df['Date']).month\n"
   ]
  },
  {
   "cell_type": "markdown",
   "id": "6ce07520",
   "metadata": {},
   "source": [
    "### b. Null values"
   ]
  },
  {
   "cell_type": "code",
   "execution_count": 8,
   "id": "7c19b23c",
   "metadata": {
    "scrolled": true
   },
   "outputs": [
    {
     "data": {
      "text/plain": [
       "Date           0\n",
       "Description    0\n",
       "Deposits       0\n",
       "Withdrawls     0\n",
       "Balance        0\n",
       "Year           0\n",
       "Month          0\n",
       "dtype: int64"
      ]
     },
     "execution_count": 8,
     "metadata": {},
     "output_type": "execute_result"
    }
   ],
   "source": [
    "# Add up the number of rows in each column which have null values e.g. N/A or NaN\n",
    "df.isna().sum()"
   ]
  },
  {
   "cell_type": "markdown",
   "id": "aa8d9377",
   "metadata": {},
   "source": [
    "* There are <b>NO</b> illegal (e.g. null) values in each columns. <br>\n",
    "* We can proceed with the next data cleaning method"
   ]
  },
  {
   "cell_type": "markdown",
   "id": "40bc65db",
   "metadata": {},
   "source": [
    "### c.  Detect outliers and remove them if needed"
   ]
  },
  {
   "cell_type": "code",
   "execution_count": 9,
   "id": "3e941178",
   "metadata": {},
   "outputs": [
    {
     "data": {
      "image/png": "[encoded data removed]",
      "text/plain": [
       "<Figure size 720x432 with 1 Axes>"
      ]
     },
     "metadata": {
      "needs_background": "light"
     },
     "output_type": "display_data"
    }
   ],
   "source": [
    "# Boxplot of withdrawl column before removing outliers\n",
    "plt.figure(figsize=(10, 6))\n",
    "plt.title(\"Box plot of Withdrawl Amounts (Pre Filtering)\")\n",
    "plt.boxplot(df[\"Withdrawls\"])\n",
    "plt.show()"
   ]
  },
  {
   "cell_type": "markdown",
   "id": "4ae4b807",
   "metadata": {},
   "source": [
    "* From the boxplot, we can see a lot of outliers in this data but we must keep in mind that this financial statement might belong to a user who deals with large amounts of cash in single transactions. \n",
    "* We can observe four points that stray far from the other points, which have a high possibility of being outliers \n",
    "* To avoid incorrect assumptions, we can remove the 1% and 99% quantile just to be safe as well as improve the accuracy, even if it is a small improvement "
   ]
  },
  {
   "cell_type": "code",
   "execution_count": 10,
   "id": "b35d0a3d",
   "metadata": {
    "scrolled": false
   },
   "outputs": [
    {
     "name": "stdout",
     "output_type": "stream",
     "text": [
      "1st Quantile (Withdrawls): 0.0\n",
      "99th Quantile (Withdrawls): 1323891.784699994\n"
     ]
    },
    {
     "data": {
      "image/png": "[encoded data removed]",
      "text/plain": [
       "<Figure size 720x432 with 1 Axes>"
      ]
     },
     "metadata": {
      "needs_background": "light"
     },
     "output_type": "display_data"
    }
   ],
   "source": [
    "# Calculate the 1% and 99% quantiles to identify outlier values\n",
    "q_low = df[\"Withdrawls\"].quantile(0.01) # Find the largest value that occurs 1% of the time\n",
    "q_hi  = df[\"Withdrawls\"].quantile(0.99) # Find the largest value that occurs 99% of the time\n",
    "\n",
    "# Print out calculated quantiles\n",
    "print('1st Quantile (Withdrawls): {0}'.format(q_low))\n",
    "print('99th Quantile (Withdrawls): {0}'.format(q_hi))\n",
    "\n",
    "# Create a dataframe without these outliers\n",
    "df_filtered = df[(df[\"Withdrawls\"] > q_low) & (df[\"Withdrawls\"] < q_hi)]\n",
    "df_filtered\n",
    "\n",
    "# Boxplot of the new dataframe after removing the outliers more than the 99% quantile and less than the 1% quantile\n",
    "plt.figure(figsize=(10, 6))\n",
    "plt.title(\"Box plot of Withdrawl Amounts (Post Filtering)\")\n",
    "plt.boxplot(df_filtered[\"Withdrawls\"])\n",
    "plt.show()"
   ]
  },
  {
   "cell_type": "markdown",
   "id": "72dfcd79",
   "metadata": {},
   "source": [
    "* Eventhough we can still see a lot of outliers, the four points that were far away from the other points are removed. \n",
    "* The remaining outliers are so close to each other that we can assume that they are useful for our model, for now"
   ]
  },
  {
   "cell_type": "markdown",
   "id": "329b9465",
   "metadata": {},
   "source": [
    "### 3. Building the Linear Regression Model (Predict maximum expenditure for the next year)\n",
    "* To improve budgeting, we can predict the maximum expenditure of each year, which is of lower granularity but we will increase it  later when we build the model based on the month as well.  \n",
    "* If the predicted maximum expenditure is larger next year, it is a sign that the user should probably not take more money out of the bank anytime soon."
   ]
  },
  {
   "cell_type": "code",
   "execution_count": 11,
   "id": "93e3df8f",
   "metadata": {},
   "outputs": [
    {
     "name": "stderr",
     "output_type": "stream",
     "text": [
      "C:\\Users\\User\\AppData\\Local\\Temp\\ipykernel_20300\\3891495540.py:6: SettingWithCopyWarning: \n",
      "A value is trying to be set on a copy of a slice from a DataFrame.\n",
      "Try using .loc[row_indexer,col_indexer] = value instead\n",
      "\n",
      "See the caveats in the documentation: https://pandas.pydata.org/pandas-docs/stable/user_guide/indexing.html#returning-a-view-versus-a-copy\n",
      "  df_maxperyear['Max Withdrawls (thousands)'] = df_filtered.groupby(['Year'])['Withdrawls'].transform('max') / 1000\n",
      "C:\\Users\\User\\AppData\\Local\\Temp\\ipykernel_20300\\3891495540.py:12: SettingWithCopyWarning: \n",
      "A value is trying to be set on a copy of a slice from a DataFrame\n",
      "\n",
      "See the caveats in the documentation: https://pandas.pydata.org/pandas-docs/stable/user_guide/indexing.html#returning-a-view-versus-a-copy\n",
      "  df_maxperyear.drop(columns=['Month'], inplace=True)\n"
     ]
    },
    {
     "data": {
      "text/html": [
       "<div>\n",
       "<style scoped>\n",
       "    .dataframe tbody tr th:only-of-type {\n",
       "        vertical-align: middle;\n",
       "    }\n",
       "\n",
       "    .dataframe tbody tr th {\n",
       "        vertical-align: top;\n",
       "    }\n",
       "\n",
       "    .dataframe thead th {\n",
       "        text-align: right;\n",
       "    }\n",
       "</style>\n",
       "<table border=\"1\" class=\"dataframe\">\n",
       "  <thead>\n",
       "    <tr style=\"text-align: right;\">\n",
       "      <th></th>\n",
       "      <th>Year</th>\n",
       "      <th>Max Withdrawls (thousands)</th>\n",
       "    </tr>\n",
       "  </thead>\n",
       "  <tbody>\n",
       "    <tr>\n",
       "      <th>0</th>\n",
       "      <td>2020</td>\n",
       "      <td>1320.64367</td>\n",
       "    </tr>\n",
       "    <tr>\n",
       "      <th>12191</th>\n",
       "      <td>2021</td>\n",
       "      <td>1323.66862</td>\n",
       "    </tr>\n",
       "    <tr>\n",
       "      <th>49474</th>\n",
       "      <td>2022</td>\n",
       "      <td>1322.64594</td>\n",
       "    </tr>\n",
       "    <tr>\n",
       "      <th>84996</th>\n",
       "      <td>2023</td>\n",
       "      <td>1320.42830</td>\n",
       "    </tr>\n",
       "    <tr>\n",
       "      <th>120010</th>\n",
       "      <td>2024</td>\n",
       "      <td>1323.61983</td>\n",
       "    </tr>\n",
       "    <tr>\n",
       "      <th>...</th>\n",
       "      <td>...</td>\n",
       "      <td>...</td>\n",
       "    </tr>\n",
       "    <tr>\n",
       "      <th>4819357</th>\n",
       "      <td>2151</td>\n",
       "      <td>1323.87332</td>\n",
       "    </tr>\n",
       "    <tr>\n",
       "      <th>4856577</th>\n",
       "      <td>2152</td>\n",
       "      <td>1320.90459</td>\n",
       "    </tr>\n",
       "    <tr>\n",
       "      <th>4891912</th>\n",
       "      <td>2153</td>\n",
       "      <td>1323.74486</td>\n",
       "    </tr>\n",
       "    <tr>\n",
       "      <th>4929116</th>\n",
       "      <td>2154</td>\n",
       "      <td>1321.77858</td>\n",
       "    </tr>\n",
       "    <tr>\n",
       "      <th>4966753</th>\n",
       "      <td>2155</td>\n",
       "      <td>1322.86793</td>\n",
       "    </tr>\n",
       "  </tbody>\n",
       "</table>\n",
       "<p>136 rows × 2 columns</p>\n",
       "</div>"
      ],
      "text/plain": [
       "         Year  Max Withdrawls (thousands)\n",
       "0        2020                  1320.64367\n",
       "12191    2021                  1323.66862\n",
       "49474    2022                  1322.64594\n",
       "84996    2023                  1320.42830\n",
       "120010   2024                  1323.61983\n",
       "...       ...                         ...\n",
       "4819357  2151                  1323.87332\n",
       "4856577  2152                  1320.90459\n",
       "4891912  2153                  1323.74486\n",
       "4929116  2154                  1321.77858\n",
       "4966753  2155                  1322.86793\n",
       "\n",
       "[136 rows x 2 columns]"
      ]
     },
     "execution_count": 11,
     "metadata": {},
     "output_type": "execute_result"
    }
   ],
   "source": [
    "# Initialise new dataframe,  df_maxperyear with Year and Month columns of df\n",
    "df_maxperyear = df_filtered[['Year','Month']]\n",
    "\n",
    "# Group dataframe by Year then by Month, \n",
    "# and then get the maximum withdrawl amounts for each month in each year\n",
    "df_maxperyear['Max Withdrawls (thousands)'] = df_filtered.groupby(['Year'])['Withdrawls'].transform('max') / 1000\n",
    "\n",
    "# Drop duplicates of same months to get maximum withdrawls of each month\n",
    "df_maxperyear = df_maxperyear.drop_duplicates(subset=['Year'])\n",
    "\n",
    "# Display the modified dataframe showing the maximum withdrawls every year\n",
    "df_maxperyear.drop(columns=['Month'], inplace=True)\n",
    "df_maxperyear"
   ]
  },
  {
   "cell_type": "code",
   "execution_count": 23,
   "id": "6fa1079f",
   "metadata": {},
   "outputs": [
    {
     "data": {
      "text/plain": [
       "[]"
      ]
     },
     "execution_count": 23,
     "metadata": {},
     "output_type": "execute_result"
    },
    {
     "data": {
      "text/plain": [
       "<Figure size 720x576 with 0 Axes>"
      ]
     },
     "metadata": {},
     "output_type": "display_data"
    },
    {
     "data": {
      "image/png": "[encoded data removed]",
      "text/plain": [
       "<Figure size 432x288 with 1 Axes>"
      ]
     },
     "metadata": {
      "needs_background": "light"
     },
     "output_type": "display_data"
    }
   ],
   "source": [
    "# Plot line graph of Year-Month against Max Withdrawls\n",
    "plt.figure(figsize=(10,8))\n",
    "df_maxperyear.plot(x='Year', y='Max Withdrawls (thousands)', xlabel = 'Year', ylabel = 'Maximum Withdrawls (thousands)', title = 'Maximum Withdrawls for Each Year (2021 - 2155)', rot=45, color = 'green')\n",
    "plt.legend(bbox_to_anchor=(1.02, 1), loc='upper left', borderaxespad=0)\n",
    "plt.grid(visible=True)\n",
    "plt.plot()"
   ]
  },
  {
   "cell_type": "code",
   "execution_count": 13,
   "id": "6d71a8ff",
   "metadata": {},
   "outputs": [],
   "source": [
    "# Build the linear regression model based on the transformed data of maximum withdrawls for each year\n",
    "linear_regressor_peryear = LinearRegression()  # create object for the class LinearRegression\n",
    "\n",
    "# Reshape the Year and Max Withdrawls (thousands) columns so that it is suitable for the model to be trained\n",
    "X = df_maxperyear.iloc[:, 0].values.reshape(-1, 1) \n",
    "Y = df_maxperyear.iloc[:, 1].values.reshape(-1, 1)\n",
    "\n",
    "# Fit the year and max withdrawls data to the model\n",
    "linear_regressor_peryear.fit(X, Y)\n",
    "\n",
    "# Run the model with the Year values as the argument to predict the expenditure for each year\n",
    "Y_pred = linear_regressor_peryear.predict(X)"
   ]
  },
  {
   "cell_type": "code",
   "execution_count": 14,
   "id": "8bf7c3d3",
   "metadata": {
    "scrolled": true
   },
   "outputs": [
    {
     "data": {
      "image/png": "[encoded data removed]",
      "text/plain": [
       "<Figure size 432x288 with 1 Axes>"
      ]
     },
     "metadata": {
      "needs_background": "light"
     },
     "output_type": "display_data"
    }
   ],
   "source": [
    "# Plot the original cleaned data and the predicted data \n",
    "plt.scatter(X, Y)\n",
    "plt.title(\"Actual and Predicted Maximum Withdrawls against Year\")\n",
    "plt.xlabel(\"Year\")\n",
    "plt.ylabel(\"Max Withdrawls (thousands)\")\n",
    "plt.plot(X, Y_pred, color='red')\n",
    "plt.show()"
   ]
  },
  {
   "cell_type": "markdown",
   "id": "71dd2712",
   "metadata": {},
   "source": [
    "* We can see the linear regression model has assumed a linear relationship between the year and maximum withdrawls, where we can see the linear shape by the red line plotted.\n",
    "\n",
    "#### Next, we can observe the coefficients of the model, namely the slope (gradient) and the y-intercept "
   ]
  },
  {
   "cell_type": "code",
   "execution_count": 15,
   "id": "a78ea2da",
   "metadata": {
    "scrolled": true
   },
   "outputs": [
    {
     "name": "stdout",
     "output_type": "stream",
     "text": [
      "Slope : 0.007859734984017933\n",
      "Intercept : 1305.5106488090978\n"
     ]
    }
   ],
   "source": [
    "print(\"Slope : \" + str(linear_regressor_peryear.coef_[0][0]) + \"\\n\" + \"Intercept : \" + str(linear_regressor_peryear.intercept_[0]))"
   ]
  },
  {
   "cell_type": "markdown",
   "id": "74790de1",
   "metadata": {},
   "source": [
    "* The <b>gradient</b> of the linear regression model is a small, positive numeric value which indicates that the <b>maximum expenditure</b> of this user <b>has been and is predicted to be increasing<b> as the years go by.\n",
    "<br>\n",
    "* The <b>y-intercept</b> is the Maximum Withdrawl value when the model line graph touches the y-axis"
   ]
  },
  {
   "cell_type": "markdown",
   "id": "d9cb2c85",
   "metadata": {},
   "source": [
    "#### Let's write a function that can predict the maximum withdrawl for any year based on the model "
   ]
  },
  {
   "cell_type": "code",
   "execution_count": 16,
   "id": "c27c1d5b",
   "metadata": {},
   "outputs": [
    {
     "name": "stdout",
     "output_type": "stream",
     "text": [
      "Prediction of maximum expenditure for the year 2048 is $1321607.39\n",
      "Prediction of maximum expenditure for the year 2050 is $1321623.11\n"
     ]
    }
   ],
   "source": [
    "def predict_next_year(slope, intercept, year):\n",
    "    return slope*year+intercept\n",
    "\n",
    "# Testing the model: Predict the maximum expenditure in the year 2048\n",
    "year = 2048\n",
    "predicted_max = predict_next_year(linear_regressor_peryear.coef_, linear_regressor_peryear.intercept_, year)\n",
    "print(\"Prediction of maximum expenditure for the year \" + str(year) + \" is $\" + str(round(predicted_max[0][0] * 1000,2))) \n",
    "\n",
    "# Testing the model: Predict the maximum expenditure in the year 2050\n",
    "year = 2050\n",
    "predicted_max = predict_next_year(linear_regressor_peryear.coef_, linear_regressor_peryear.intercept_, year)\n",
    "print(\"Prediction of maximum expenditure for the year \" + str(year) + \" is $\" + str(round(predicted_max[0][0] * 1000,2)))"
   ]
  },
  {
   "cell_type": "markdown",
   "id": "a7097940",
   "metadata": {},
   "source": [
    "* We can observe that the maximum expenditure for the year 2050 increases slightly from the value predicted in the year 2048. \n",
    "* This is expected since the slope (gradient) is a small positive value as mentioned before and therefore future predicted values should increase in the same manner."
   ]
  },
  {
   "cell_type": "markdown",
   "id": "47239e4a",
   "metadata": {},
   "source": [
    "### 4. Building the Linear Regression Model (Predict maximum expenditure for the next month)\n",
    "- Let's predict the maximum expenditure at a higher granularity, that is for the next month based on a year.\n",
    "- We can show that by building a Linear Regression model for the year 2155 (which is the only year in the dataset that does not have data recorded for every month.\n",
    "- The difference with this model from the one we built in Section 3 is that to predict a future month in that year, the model needs to have some actual data on the maximum withdrawls (expenditures) for the previous month(s) in the same year. "
   ]
  },
  {
   "cell_type": "code",
   "execution_count": 37,
   "id": "0bb9adac",
   "metadata": {},
   "outputs": [
    {
     "data": {
      "text/html": [
       "<div>\n",
       "<style scoped>\n",
       "    .dataframe tbody tr th:only-of-type {\n",
       "        vertical-align: middle;\n",
       "    }\n",
       "\n",
       "    .dataframe tbody tr th {\n",
       "        vertical-align: top;\n",
       "    }\n",
       "\n",
       "    .dataframe thead th {\n",
       "        text-align: right;\n",
       "    }\n",
       "</style>\n",
       "<table border=\"1\" class=\"dataframe\">\n",
       "  <thead>\n",
       "    <tr style=\"text-align: right;\">\n",
       "      <th></th>\n",
       "      <th>Year</th>\n",
       "      <th>Month</th>\n",
       "      <th>Max Withdrawls (thousands)</th>\n",
       "    </tr>\n",
       "  </thead>\n",
       "  <tbody>\n",
       "    <tr>\n",
       "      <th>4966753</th>\n",
       "      <td>2155</td>\n",
       "      <td>1</td>\n",
       "      <td>4511.41953</td>\n",
       "    </tr>\n",
       "    <tr>\n",
       "      <th>4970620</th>\n",
       "      <td>2155</td>\n",
       "      <td>2</td>\n",
       "      <td>4998.70641</td>\n",
       "    </tr>\n",
       "    <tr>\n",
       "      <th>4973949</th>\n",
       "      <td>2155</td>\n",
       "      <td>3</td>\n",
       "      <td>3535.50979</td>\n",
       "    </tr>\n",
       "    <tr>\n",
       "      <th>4977204</th>\n",
       "      <td>2155</td>\n",
       "      <td>4</td>\n",
       "      <td>4438.18910</td>\n",
       "    </tr>\n",
       "    <tr>\n",
       "      <th>4980157</th>\n",
       "      <td>2155</td>\n",
       "      <td>5</td>\n",
       "      <td>3681.95447</td>\n",
       "    </tr>\n",
       "    <tr>\n",
       "      <th>4982787</th>\n",
       "      <td>2155</td>\n",
       "      <td>6</td>\n",
       "      <td>2524.11321</td>\n",
       "    </tr>\n",
       "    <tr>\n",
       "      <th>4986026</th>\n",
       "      <td>2155</td>\n",
       "      <td>7</td>\n",
       "      <td>5014.49800</td>\n",
       "    </tr>\n",
       "    <tr>\n",
       "      <th>4988866</th>\n",
       "      <td>2155</td>\n",
       "      <td>8</td>\n",
       "      <td>3825.98286</td>\n",
       "    </tr>\n",
       "    <tr>\n",
       "      <th>4992131</th>\n",
       "      <td>2155</td>\n",
       "      <td>9</td>\n",
       "      <td>3582.92086</td>\n",
       "    </tr>\n",
       "    <tr>\n",
       "      <th>4995435</th>\n",
       "      <td>2155</td>\n",
       "      <td>10</td>\n",
       "      <td>2739.20400</td>\n",
       "    </tr>\n",
       "    <tr>\n",
       "      <th>4998089</th>\n",
       "      <td>2155</td>\n",
       "      <td>11</td>\n",
       "      <td>3432.91677</td>\n",
       "    </tr>\n",
       "  </tbody>\n",
       "</table>\n",
       "</div>"
      ],
      "text/plain": [
       "         Year  Month  Max Withdrawls (thousands)\n",
       "4966753  2155      1                  4511.41953\n",
       "4970620  2155      2                  4998.70641\n",
       "4973949  2155      3                  3535.50979\n",
       "4977204  2155      4                  4438.18910\n",
       "4980157  2155      5                  3681.95447\n",
       "4982787  2155      6                  2524.11321\n",
       "4986026  2155      7                  5014.49800\n",
       "4988866  2155      8                  3825.98286\n",
       "4992131  2155      9                  3582.92086\n",
       "4995435  2155     10                  2739.20400\n",
       "4998089  2155     11                  3432.91677"
      ]
     },
     "execution_count": 37,
     "metadata": {},
     "output_type": "execute_result"
    }
   ],
   "source": [
    "# Initialise new dataframe,  df_maxperyear with Year and Month columns of df\n",
    "df_maxpermonth = df[['Year','Month']]\n",
    "\n",
    "# Group dataframe by Year then by Month, \n",
    "# and then get the max for each month in each year\n",
    "df_maxpermonth['Max Withdrawls (thousands)'] = df.groupby(['Year', 'Month'])['Withdrawls'].transform('max') / 1000\n",
    "\n",
    "# Drop duplicates of same months to get maximum withdrawls of each month\n",
    "# https://stackoverflow.com/questions/19377969/combine-two-columns-of-text-in-pandas-dataframe\n",
    "df_maxpermonth = df_maxpermonth.drop_duplicates(subset=['Year', 'Month'])\n",
    "\n",
    "# Only keep the maximum withdrawls per month data for the year 2155\n",
    "df_maxpermonth2155 = df_maxpermonth[df_maxpermonth['Year'] == 2155]\n",
    "df_maxpermonth2155"
   ]
  },
  {
   "cell_type": "code",
   "execution_count": 62,
   "id": "c4690e27",
   "metadata": {},
   "outputs": [
    {
     "data": {
      "text/plain": [
       "[]"
      ]
     },
     "execution_count": 62,
     "metadata": {},
     "output_type": "execute_result"
    },
    {
     "data": {
      "image/png": "[encoded data removed]",
      "text/plain": [
       "<Figure size 432x288 with 1 Axes>"
      ]
     },
     "metadata": {
      "needs_background": "light"
     },
     "output_type": "display_data"
    }
   ],
   "source": [
    "# Plot line graph of Year-Month against Max Withdrawls for the year 2155\n",
    "plt.scatter(df_maxpermonth2155['Month'], df_maxpermonth2155['Max Withdrawls (thousands)'])\n",
    "plt.xlabel('Month')\n",
    "plt.ylabel('Maximum Withdrawls (thousands)')\n",
    "plt.title('Maximum Withdrawls in Each Month (Year = 2155)')\n",
    "plt.xticks(rotation = 45)\n",
    "plt.legend(['Max Withdrawls (thousands)'], bbox_to_anchor=(1.56, 1), loc='upper right', borderaxespad=0)\n",
    "plt.plot()"
   ]
  },
  {
   "cell_type": "code",
   "execution_count": 63,
   "id": "359d1e08",
   "metadata": {},
   "outputs": [],
   "source": [
    "linear_regressor_year2155 = LinearRegression()  # create object for the class\n",
    "\n",
    "# Reshape the Month and Max Withdrawls (thousands) columns so that it is suitable for the model to be trained\n",
    "X_year2155 = df_maxpermonth2155.iloc[:, 1].values.reshape(-1, 1)\n",
    "Y_year2155 = df_maxpermonth2155.iloc[:, 2].values.reshape(-1, 1)\n",
    "\n",
    "# Fit the month and max withdrawls data to the model\n",
    "linear_regressor_year2155.fit(X_year2155, Y_year2155)\n",
    "\n",
    "# Run the model with the Month values as the argument to predict the expenditure for each month in the year 2155\n",
    "Y_pred_year2155 = linear_regressor_year2155.predict(X_year2155)  # make predictions"
   ]
  },
  {
   "cell_type": "code",
   "execution_count": 65,
   "id": "38a56a0b",
   "metadata": {},
   "outputs": [
    {
     "data": {
      "image/png": "[encoded data removed]",
      "text/plain": [
       "<Figure size 432x288 with 1 Axes>"
      ]
     },
     "metadata": {
      "needs_background": "light"
     },
     "output_type": "display_data"
    }
   ],
   "source": [
    "# Plot the original cleaned data and the predicted data \n",
    "plt.scatter(X_year2155, Y_year2155)\n",
    "plt.title(\"Actual and Predicted Maximum Withdrawls against Month (Year 2155)\")\n",
    "plt.xlabel(\"Month\")\n",
    "plt.ylabel(\"Max Withdrawls (thousands)\")\n",
    "plt.plot(X_year2155, Y_pred_year2155, color='red')\n",
    "plt.show()"
   ]
  },
  {
   "cell_type": "code",
   "execution_count": 32,
   "id": "6272e298",
   "metadata": {
    "scrolled": true
   },
   "outputs": [
    {
     "name": "stdout",
     "output_type": "stream",
     "text": [
      "Slope : -128.91053800000003\n",
      "Intercept : 4617.591864363636\n"
     ]
    }
   ],
   "source": [
    "print(\"Slope : \" + str(linear_regressor_year2155.coef_[0][0]) + \"\\n\" + \"Intercept : \" + str(linear_regressor_year2155.intercept_[0]))"
   ]
  },
  {
   "cell_type": "markdown",
   "id": "82099a3e",
   "metadata": {},
   "source": [
    "* The <b>gradient</b> of the linear regression model is a large, negative numeric value which indicates that the <b>maximum expenditure</b> of this user <b>has been and is predicted to be decreasing significantly<b> as the months go by.\n",
    "<br>\n",
    "* The <b>y-intercept</b> is the Maximum Withdrawl value when the model line graph touches the y-axis"
   ]
  },
  {
   "cell_type": "markdown",
   "id": "48fd874a",
   "metadata": {},
   "source": [
    "#### Let's write a function that can predict the maximum withdrawl for any month in the year 2155 based on the model "
   ]
  },
  {
   "cell_type": "code",
   "execution_count": 86,
   "id": "ce238db1",
   "metadata": {},
   "outputs": [
    {
     "name": "stdout",
     "output_type": "stream",
     "text": [
      "Maximum expenditure for the month 11 is $3432916.77\n",
      "Prediction of maximum expenditure for the month 12 is $3070665.41\n"
     ]
    }
   ],
   "source": [
    "def predict_next_month(slope, intercept, month):\n",
    "    return slope*month+intercept\n",
    "\n",
    "# Testing the model: Note down the maximum expenditure in the month of November (11th month) in the year 2155\n",
    "max_month11 = df_maxpermonth2155[(df_maxpermonth2155['Year'] == 2155) & (df_maxpermonth2155['Month'] == 11)]['Max Withdrawls (thousands)'].values[0]\n",
    "print(\"Maximum expenditure for the month 11 is $\" + str(round(max_month11*1000,2)))\n",
    "\n",
    "# Testing the model: Predict the maximum expenditure in the month of December (12th month) in the year 2155\n",
    "month = 12\n",
    "predicted_max = predict_next_month(linear_regressor_year2155.coef_, linear_regressor_year2155.intercept_, month)\n",
    "print(\"Prediction of maximum expenditure for the month \" + str(month) + \" is $\" + str(round(predicted_max[0][0] * 1000,2))) "
   ]
  },
  {
   "cell_type": "markdown",
   "id": "508edbe9",
   "metadata": {},
   "source": [
    "* We can observe that the predicted maximum expenditure for the month of December decreased significantly from the value recorded in the month of November. \n",
    "* This is expected since the slope (gradient) is a large, negativ value as mentioned before and therefore future predicted values should decrease in the same manner."
   ]
  }
 ],
 "metadata": {
  "kernelspec": {
   "display_name": "Python 3 (ipykernel)",
   "language": "python",
   "name": "python3"
  },
  "language_info": {
   "codemirror_mode": {
    "name": "ipython",
    "version": 3
   },
   "file_extension": ".py",
   "mimetype": "text/x-python",
   "name": "python",
   "nbconvert_exporter": "python",
   "pygments_lexer": "ipython3",
   "version": "3.9.12"
  },
  "vscode": {
   "interpreter": {
    "hash": "23b4a3e8622309bcc6db3d5cc6eb73d60ab98d9ec23bad6a26b709981ccb403a"
   }
  }
 },
 "nbformat": 4,
 "nbformat_minor": 5
}
