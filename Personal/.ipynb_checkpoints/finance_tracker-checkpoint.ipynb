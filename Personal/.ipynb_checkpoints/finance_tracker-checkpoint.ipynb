{
 "cells": [
  {
   "cell_type": "code",
   "execution_count": 238,
   "id": "2ab03acb",
   "metadata": {},
   "outputs": [],
   "source": [
    "import pandas as pd\n",
    "import matplotlib.pyplot as plt\n",
    "import numpy as np\n",
    "from sklearn.linear_model import LinearRegression"
   ]
  },
  {
   "cell_type": "code",
   "execution_count": 239,
   "id": "fd700420",
   "metadata": {},
   "outputs": [],
   "source": [
    "# Read csv file of bank statement records (Link: https://eforexcel.com/wp/downloads-20-sample-csv-files-data-sets-for-testing-till-2-million-records-bank-transactions/) \n",
    "df = pd.read_csv(\"5000000 BT Records.csv\")"
   ]
  },
  {
   "cell_type": "code",
   "execution_count": 240,
   "id": "79f6374d",
   "metadata": {},
   "outputs": [
    {
     "name": "stdout",
     "output_type": "stream",
     "text": [
      "<class 'pandas.core.frame.DataFrame'>\n",
      "RangeIndex: 5000000 entries, 0 to 4999999\n",
      "Data columns (total 5 columns):\n",
      " #   Column       Dtype \n",
      "---  ------       ----- \n",
      " 0   Date         object\n",
      " 1   Description  object\n",
      " 2   Deposits     object\n",
      " 3   Withdrawls   object\n",
      " 4   Balance      object\n",
      "dtypes: object(5)\n",
      "memory usage: 190.7+ MB\n"
     ]
    }
   ],
   "source": [
    "df.info()"
   ]
  },
  {
   "cell_type": "code",
   "execution_count": 241,
   "id": "0040bb1f",
   "metadata": {},
   "outputs": [],
   "source": [
    "# Cast datatype of Deposits, Withdrawls and Balance from Object to float\n",
    "df['Deposits'] = df['Deposits'].astype(str).str.replace(',', '').astype(float, errors = 'raise') \n",
    "df['Withdrawls'] = df['Withdrawls'].astype(str).str.replace(',', '').astype(float, errors = 'raise') \n",
    "df['Balance'] = df['Balance'].astype(str).str.replace(',', '').astype(float, errors = 'raise') \n",
    "\n",
    "# Cast datatype of Date from Object to datetime\n",
    "df[\"Date\"] = pd.to_datetime(df[\"Date\"])\n",
    "\n",
    "# Create new columns of Year and Month from Date column\n",
    "df['Year'] = pd.DatetimeIndex(df['Date']).year\n",
    "df['Month'] = pd.DatetimeIndex(df['Date']).month\n"
   ]
  },
  {
   "cell_type": "markdown",
   "id": "329b9465",
   "metadata": {},
   "source": [
    "# Maximum expenditure for the next year"
   ]
  },
  {
   "cell_type": "code",
   "execution_count": 242,
   "id": "93e3df8f",
   "metadata": {},
   "outputs": [
    {
     "name": "stderr",
     "output_type": "stream",
     "text": [
      "C:\\Users\\User\\AppData\\Local\\Temp\\ipykernel_14688\\2297216302.py:6: SettingWithCopyWarning: \n",
      "A value is trying to be set on a copy of a slice from a DataFrame.\n",
      "Try using .loc[row_indexer,col_indexer] = value instead\n",
      "\n",
      "See the caveats in the documentation: https://pandas.pydata.org/pandas-docs/stable/user_guide/indexing.html#returning-a-view-versus-a-copy\n",
      "  df_maxperyear['Max Withdrawls'] = df.groupby(['Year'])['Withdrawls'].transform('max')\n",
      "C:\\Users\\User\\AppData\\Local\\Temp\\ipykernel_14688\\2297216302.py:7: SettingWithCopyWarning: \n",
      "A value is trying to be set on a copy of a slice from a DataFrame.\n",
      "Try using .loc[row_indexer,col_indexer] = value instead\n",
      "\n",
      "See the caveats in the documentation: https://pandas.pydata.org/pandas-docs/stable/user_guide/indexing.html#returning-a-view-versus-a-copy\n",
      "  df_maxperyear['Max Deposits'] = df.groupby(['Year'])['Deposits'].transform('max')\n"
     ]
    },
    {
     "data": {
      "text/html": [
       "<div>\n",
       "<style scoped>\n",
       "    .dataframe tbody tr th:only-of-type {\n",
       "        vertical-align: middle;\n",
       "    }\n",
       "\n",
       "    .dataframe tbody tr th {\n",
       "        vertical-align: top;\n",
       "    }\n",
       "\n",
       "    .dataframe thead th {\n",
       "        text-align: right;\n",
       "    }\n",
       "</style>\n",
       "<table border=\"1\" class=\"dataframe\">\n",
       "  <thead>\n",
       "    <tr style=\"text-align: right;\">\n",
       "      <th></th>\n",
       "      <th>Year</th>\n",
       "      <th>Month</th>\n",
       "      <th>Max Withdrawls</th>\n",
       "      <th>Max Deposits</th>\n",
       "    </tr>\n",
       "  </thead>\n",
       "  <tbody>\n",
       "    <tr>\n",
       "      <th>0</th>\n",
       "      <td>2020</td>\n",
       "      <td>8</td>\n",
       "      <td>5276424.33</td>\n",
       "      <td>2094692.00</td>\n",
       "    </tr>\n",
       "    <tr>\n",
       "      <th>12189</th>\n",
       "      <td>2021</td>\n",
       "      <td>1</td>\n",
       "      <td>6638568.73</td>\n",
       "      <td>2096351.80</td>\n",
       "    </tr>\n",
       "    <tr>\n",
       "      <th>49472</th>\n",
       "      <td>2022</td>\n",
       "      <td>1</td>\n",
       "      <td>6455298.03</td>\n",
       "      <td>2096069.75</td>\n",
       "    </tr>\n",
       "    <tr>\n",
       "      <th>84995</th>\n",
       "      <td>2023</td>\n",
       "      <td>1</td>\n",
       "      <td>5699141.45</td>\n",
       "      <td>2096090.75</td>\n",
       "    </tr>\n",
       "    <tr>\n",
       "      <th>120009</th>\n",
       "      <td>2024</td>\n",
       "      <td>1</td>\n",
       "      <td>4976248.20</td>\n",
       "      <td>2096986.00</td>\n",
       "    </tr>\n",
       "    <tr>\n",
       "      <th>...</th>\n",
       "      <td>...</td>\n",
       "      <td>...</td>\n",
       "      <td>...</td>\n",
       "      <td>...</td>\n",
       "    </tr>\n",
       "    <tr>\n",
       "      <th>4819355</th>\n",
       "      <td>2151</td>\n",
       "      <td>1</td>\n",
       "      <td>7392481.61</td>\n",
       "      <td>2096275.00</td>\n",
       "    </tr>\n",
       "    <tr>\n",
       "      <th>4856577</th>\n",
       "      <td>2152</td>\n",
       "      <td>1</td>\n",
       "      <td>5124275.92</td>\n",
       "      <td>2096470.00</td>\n",
       "    </tr>\n",
       "    <tr>\n",
       "      <th>4891912</th>\n",
       "      <td>2153</td>\n",
       "      <td>1</td>\n",
       "      <td>5845024.18</td>\n",
       "      <td>2096668.50</td>\n",
       "    </tr>\n",
       "    <tr>\n",
       "      <th>4929114</th>\n",
       "      <td>2154</td>\n",
       "      <td>1</td>\n",
       "      <td>5303100.49</td>\n",
       "      <td>2094604.25</td>\n",
       "    </tr>\n",
       "    <tr>\n",
       "      <th>4966753</th>\n",
       "      <td>2155</td>\n",
       "      <td>1</td>\n",
       "      <td>5014498.00</td>\n",
       "      <td>2095822.80</td>\n",
       "    </tr>\n",
       "  </tbody>\n",
       "</table>\n",
       "<p>136 rows × 4 columns</p>\n",
       "</div>"
      ],
      "text/plain": [
       "         Year  Month  Max Withdrawls  Max Deposits\n",
       "0        2020      8      5276424.33    2094692.00\n",
       "12189    2021      1      6638568.73    2096351.80\n",
       "49472    2022      1      6455298.03    2096069.75\n",
       "84995    2023      1      5699141.45    2096090.75\n",
       "120009   2024      1      4976248.20    2096986.00\n",
       "...       ...    ...             ...           ...\n",
       "4819355  2151      1      7392481.61    2096275.00\n",
       "4856577  2152      1      5124275.92    2096470.00\n",
       "4891912  2153      1      5845024.18    2096668.50\n",
       "4929114  2154      1      5303100.49    2094604.25\n",
       "4966753  2155      1      5014498.00    2095822.80\n",
       "\n",
       "[136 rows x 4 columns]"
      ]
     },
     "execution_count": 242,
     "metadata": {},
     "output_type": "execute_result"
    }
   ],
   "source": [
    "# Initialise new dataframe,  df_maxperyear with Year and Month columns of df\n",
    "df_maxperyear = df[['Year','Month']]\n",
    "\n",
    "# Group dataframe by Year then by Month, \n",
    "# and then get the max for each month in each year\n",
    "df_maxperyear['Max Withdrawls'] = df.groupby(['Year'])['Withdrawls'].transform('max')\n",
    "df_maxperyear['Max Deposits'] = df.groupby(['Year'])['Deposits'].transform('max')\n",
    "\n",
    "# Drop duplicates of same months to get maximum withdrawls of each month\n",
    "# https://stackoverflow.com/questions/19377969/combine-two-columns-of-text-in-pandas-dataframe\n",
    "df_maxperyear = df_maxperyear.drop_duplicates(subset=['Year'])\n",
    "\n",
    "\n",
    "df_maxperyear\n"
   ]
  },
  {
   "cell_type": "code",
   "execution_count": 243,
   "id": "6fa1079f",
   "metadata": {},
   "outputs": [
    {
     "data": {
      "text/plain": [
       "[]"
      ]
     },
     "execution_count": 243,
     "metadata": {},
     "output_type": "execute_result"
    },
    {
     "data": {
      "image/png": "[encoded data removed]",
      "text/plain": [
       "<Figure size 432x288 with 1 Axes>"
      ]
     },
     "metadata": {
      "needs_background": "light"
     },
     "output_type": "display_data"
    }
   ],
   "source": [
    "# Plot line graph of Year-Month against Max Withdrawls\n",
    "df_maxperyear.plot(x='Year', y='Max Withdrawls', xlabel = 'Year', ylabel = 'Maximum Withdrawls (10^6)', marker='o', title = 'Maximum Withdrawls in Each Year & Month', rot=45, color = 'red')\n",
    "plt.legend(bbox_to_anchor=(1.02, 1), loc='upper left', borderaxespad=0)\n",
    "plt.plot()"
   ]
  },
  {
   "cell_type": "code",
   "execution_count": 244,
   "id": "98acca06",
   "metadata": {},
   "outputs": [
    {
     "data": {
      "text/html": [
       "<div>\n",
       "<style scoped>\n",
       "    .dataframe tbody tr th:only-of-type {\n",
       "        vertical-align: middle;\n",
       "    }\n",
       "\n",
       "    .dataframe tbody tr th {\n",
       "        vertical-align: top;\n",
       "    }\n",
       "\n",
       "    .dataframe thead th {\n",
       "        text-align: right;\n",
       "    }\n",
       "</style>\n",
       "<table border=\"1\" class=\"dataframe\">\n",
       "  <thead>\n",
       "    <tr style=\"text-align: right;\">\n",
       "      <th></th>\n",
       "      <th>Year</th>\n",
       "      <th>Month</th>\n",
       "      <th>Max Withdrawls</th>\n",
       "      <th>Max Deposits</th>\n",
       "    </tr>\n",
       "  </thead>\n",
       "  <tbody>\n",
       "    <tr>\n",
       "      <th>0</th>\n",
       "      <td>2020</td>\n",
       "      <td>8</td>\n",
       "      <td>5276424.33</td>\n",
       "      <td>2094692.00</td>\n",
       "    </tr>\n",
       "    <tr>\n",
       "      <th>12189</th>\n",
       "      <td>2021</td>\n",
       "      <td>1</td>\n",
       "      <td>6638568.73</td>\n",
       "      <td>2096351.80</td>\n",
       "    </tr>\n",
       "    <tr>\n",
       "      <th>49472</th>\n",
       "      <td>2022</td>\n",
       "      <td>1</td>\n",
       "      <td>6455298.03</td>\n",
       "      <td>2096069.75</td>\n",
       "    </tr>\n",
       "    <tr>\n",
       "      <th>84995</th>\n",
       "      <td>2023</td>\n",
       "      <td>1</td>\n",
       "      <td>5699141.45</td>\n",
       "      <td>2096090.75</td>\n",
       "    </tr>\n",
       "    <tr>\n",
       "      <th>120009</th>\n",
       "      <td>2024</td>\n",
       "      <td>1</td>\n",
       "      <td>4976248.20</td>\n",
       "      <td>2096986.00</td>\n",
       "    </tr>\n",
       "    <tr>\n",
       "      <th>...</th>\n",
       "      <td>...</td>\n",
       "      <td>...</td>\n",
       "      <td>...</td>\n",
       "      <td>...</td>\n",
       "    </tr>\n",
       "    <tr>\n",
       "      <th>4819355</th>\n",
       "      <td>2151</td>\n",
       "      <td>1</td>\n",
       "      <td>7392481.61</td>\n",
       "      <td>2096275.00</td>\n",
       "    </tr>\n",
       "    <tr>\n",
       "      <th>4856577</th>\n",
       "      <td>2152</td>\n",
       "      <td>1</td>\n",
       "      <td>5124275.92</td>\n",
       "      <td>2096470.00</td>\n",
       "    </tr>\n",
       "    <tr>\n",
       "      <th>4891912</th>\n",
       "      <td>2153</td>\n",
       "      <td>1</td>\n",
       "      <td>5845024.18</td>\n",
       "      <td>2096668.50</td>\n",
       "    </tr>\n",
       "    <tr>\n",
       "      <th>4929114</th>\n",
       "      <td>2154</td>\n",
       "      <td>1</td>\n",
       "      <td>5303100.49</td>\n",
       "      <td>2094604.25</td>\n",
       "    </tr>\n",
       "    <tr>\n",
       "      <th>4966753</th>\n",
       "      <td>2155</td>\n",
       "      <td>1</td>\n",
       "      <td>5014498.00</td>\n",
       "      <td>2095822.80</td>\n",
       "    </tr>\n",
       "  </tbody>\n",
       "</table>\n",
       "<p>136 rows × 4 columns</p>\n",
       "</div>"
      ],
      "text/plain": [
       "         Year  Month  Max Withdrawls  Max Deposits\n",
       "0        2020      8      5276424.33    2094692.00\n",
       "12189    2021      1      6638568.73    2096351.80\n",
       "49472    2022      1      6455298.03    2096069.75\n",
       "84995    2023      1      5699141.45    2096090.75\n",
       "120009   2024      1      4976248.20    2096986.00\n",
       "...       ...    ...             ...           ...\n",
       "4819355  2151      1      7392481.61    2096275.00\n",
       "4856577  2152      1      5124275.92    2096470.00\n",
       "4891912  2153      1      5845024.18    2096668.50\n",
       "4929114  2154      1      5303100.49    2094604.25\n",
       "4966753  2155      1      5014498.00    2095822.80\n",
       "\n",
       "[136 rows x 4 columns]"
      ]
     },
     "execution_count": 244,
     "metadata": {},
     "output_type": "execute_result"
    }
   ],
   "source": [
    "df_maxperyear"
   ]
  },
  {
   "cell_type": "code",
   "execution_count": 245,
   "id": "6d71a8ff",
   "metadata": {},
   "outputs": [],
   "source": [
    "linear_regressor_peryear = LinearRegression()  # create object for the class\n",
    "X = df_maxperyear.iloc[:, 0].values.reshape(-1, 1)\n",
    "Y = df_maxperyear.iloc[:, 2].values.reshape(-1, 1)\n",
    "linear_regressor_peryear.fit(X, Y)  # perform linear regression\n",
    "Y_pred = linear_regressor_peryear.predict(X)  # make predictions"
   ]
  },
  {
   "cell_type": "code",
   "execution_count": 246,
   "id": "8bf7c3d3",
   "metadata": {},
   "outputs": [
    {
     "data": {
      "image/png": "[encoded data removed]",
      "text/plain": [
       "<Figure size 432x288 with 1 Axes>"
      ]
     },
     "metadata": {
      "needs_background": "light"
     },
     "output_type": "display_data"
    }
   ],
   "source": [
    "plt.scatter(X, Y)\n",
    "plt.plot(X, Y_pred, color='blue')\n",
    "plt.show()"
   ]
  },
  {
   "cell_type": "code",
   "execution_count": 247,
   "id": "a78ea2da",
   "metadata": {},
   "outputs": [
    {
     "name": "stdout",
     "output_type": "stream",
     "text": [
      "Slope : -1054.4534151280952\n",
      "Intercept : 7916417.165476958\n"
     ]
    }
   ],
   "source": [
    "print(\"Slope : \" + str(linear_regressor_peryear.coef_[0][0]) + \"\\n\" + \"Intercept : \" + str(linear_regressor_peryear.intercept_[0]))"
   ]
  },
  {
   "cell_type": "code",
   "execution_count": 248,
   "id": "c27c1d5b",
   "metadata": {},
   "outputs": [
    {
     "name": "stdout",
     "output_type": "stream",
     "text": [
      "Prediction of maximum expenditure for the year 2048 is $5756896.57\n"
     ]
    }
   ],
   "source": [
    "def predict_next_year(slope, intercept, year):\n",
    "    return slope*year+intercept\n",
    "\n",
    "year = 2048\n",
    "predicted_max = predict_next_year(linear_regressor_peryear.coef_, linear_regressor_peryear.intercept_, year)\n",
    "print(\"Prediction of maximum expenditure for the year \" + str(year) + \" is $\" + str(round(predicted_max[0][0],2))) "
   ]
  },
  {
   "cell_type": "code",
   "execution_count": 249,
   "id": "2e8bd230",
   "metadata": {},
   "outputs": [
    {
     "data": {
      "text/html": [
       "<div>\n",
       "<style scoped>\n",
       "    .dataframe tbody tr th:only-of-type {\n",
       "        vertical-align: middle;\n",
       "    }\n",
       "\n",
       "    .dataframe tbody tr th {\n",
       "        vertical-align: top;\n",
       "    }\n",
       "\n",
       "    .dataframe thead th {\n",
       "        text-align: right;\n",
       "    }\n",
       "</style>\n",
       "<table border=\"1\" class=\"dataframe\">\n",
       "  <thead>\n",
       "    <tr style=\"text-align: right;\">\n",
       "      <th></th>\n",
       "      <th>Year</th>\n",
       "      <th>Month</th>\n",
       "      <th>Max Withdrawls</th>\n",
       "      <th>Max Deposits</th>\n",
       "    </tr>\n",
       "  </thead>\n",
       "  <tbody>\n",
       "    <tr>\n",
       "      <th>0</th>\n",
       "      <td>2020</td>\n",
       "      <td>8</td>\n",
       "      <td>5276424.33</td>\n",
       "      <td>2094692.00</td>\n",
       "    </tr>\n",
       "    <tr>\n",
       "      <th>12189</th>\n",
       "      <td>2021</td>\n",
       "      <td>1</td>\n",
       "      <td>6638568.73</td>\n",
       "      <td>2096351.80</td>\n",
       "    </tr>\n",
       "    <tr>\n",
       "      <th>49472</th>\n",
       "      <td>2022</td>\n",
       "      <td>1</td>\n",
       "      <td>6455298.03</td>\n",
       "      <td>2096069.75</td>\n",
       "    </tr>\n",
       "    <tr>\n",
       "      <th>84995</th>\n",
       "      <td>2023</td>\n",
       "      <td>1</td>\n",
       "      <td>5699141.45</td>\n",
       "      <td>2096090.75</td>\n",
       "    </tr>\n",
       "    <tr>\n",
       "      <th>120009</th>\n",
       "      <td>2024</td>\n",
       "      <td>1</td>\n",
       "      <td>4976248.20</td>\n",
       "      <td>2096986.00</td>\n",
       "    </tr>\n",
       "    <tr>\n",
       "      <th>...</th>\n",
       "      <td>...</td>\n",
       "      <td>...</td>\n",
       "      <td>...</td>\n",
       "      <td>...</td>\n",
       "    </tr>\n",
       "    <tr>\n",
       "      <th>4819355</th>\n",
       "      <td>2151</td>\n",
       "      <td>1</td>\n",
       "      <td>7392481.61</td>\n",
       "      <td>2096275.00</td>\n",
       "    </tr>\n",
       "    <tr>\n",
       "      <th>4856577</th>\n",
       "      <td>2152</td>\n",
       "      <td>1</td>\n",
       "      <td>5124275.92</td>\n",
       "      <td>2096470.00</td>\n",
       "    </tr>\n",
       "    <tr>\n",
       "      <th>4891912</th>\n",
       "      <td>2153</td>\n",
       "      <td>1</td>\n",
       "      <td>5845024.18</td>\n",
       "      <td>2096668.50</td>\n",
       "    </tr>\n",
       "    <tr>\n",
       "      <th>4929114</th>\n",
       "      <td>2154</td>\n",
       "      <td>1</td>\n",
       "      <td>5303100.49</td>\n",
       "      <td>2094604.25</td>\n",
       "    </tr>\n",
       "    <tr>\n",
       "      <th>4966753</th>\n",
       "      <td>2155</td>\n",
       "      <td>1</td>\n",
       "      <td>5014498.00</td>\n",
       "      <td>2095822.80</td>\n",
       "    </tr>\n",
       "  </tbody>\n",
       "</table>\n",
       "<p>136 rows × 4 columns</p>\n",
       "</div>"
      ],
      "text/plain": [
       "         Year  Month  Max Withdrawls  Max Deposits\n",
       "0        2020      8      5276424.33    2094692.00\n",
       "12189    2021      1      6638568.73    2096351.80\n",
       "49472    2022      1      6455298.03    2096069.75\n",
       "84995    2023      1      5699141.45    2096090.75\n",
       "120009   2024      1      4976248.20    2096986.00\n",
       "...       ...    ...             ...           ...\n",
       "4819355  2151      1      7392481.61    2096275.00\n",
       "4856577  2152      1      5124275.92    2096470.00\n",
       "4891912  2153      1      5845024.18    2096668.50\n",
       "4929114  2154      1      5303100.49    2094604.25\n",
       "4966753  2155      1      5014498.00    2095822.80\n",
       "\n",
       "[136 rows x 4 columns]"
      ]
     },
     "execution_count": 249,
     "metadata": {},
     "output_type": "execute_result"
    }
   ],
   "source": [
    "df_maxperyear"
   ]
  },
  {
   "cell_type": "markdown",
   "id": "47239e4a",
   "metadata": {},
   "source": [
    "# Maximum expenditure for the next month"
   ]
  },
  {
   "cell_type": "code",
   "execution_count": 250,
   "id": "0bb9adac",
   "metadata": {},
   "outputs": [
    {
     "name": "stderr",
     "output_type": "stream",
     "text": [
      "C:\\Users\\User\\AppData\\Local\\Temp\\ipykernel_14688\\1153359656.py:6: SettingWithCopyWarning: \n",
      "A value is trying to be set on a copy of a slice from a DataFrame.\n",
      "Try using .loc[row_indexer,col_indexer] = value instead\n",
      "\n",
      "See the caveats in the documentation: https://pandas.pydata.org/pandas-docs/stable/user_guide/indexing.html#returning-a-view-versus-a-copy\n",
      "  df_maxpermonth['Max Withdrawls'] = df.groupby(['Year', 'Month'])['Withdrawls'].transform('max')\n"
     ]
    }
   ],
   "source": [
    "# Initialise new dataframe,  df_maxperyear with Year and Month columns of df\n",
    "df_maxpermonth = df[['Year','Month']]\n",
    "\n",
    "# Group dataframe by Year then by Month, \n",
    "# and then get the max for each month in each year\n",
    "df_maxpermonth['Max Withdrawls'] = df.groupby(['Year', 'Month'])['Withdrawls'].transform('max')\n",
    "\n",
    "# Drop duplicates of same months to get maximum withdrawls of each month\n",
    "# https://stackoverflow.com/questions/19377969/combine-two-columns-of-text-in-pandas-dataframe\n",
    "df_maxpermonth = df_maxpermonth.drop_duplicates(subset=['Year', 'Month'])\n",
    "\n",
    "df_maxpermonth = df_maxpermonth[df_maxpermonth['Year'] == 2155]"
   ]
  },
  {
   "cell_type": "code",
   "execution_count": 251,
   "id": "c4690e27",
   "metadata": {},
   "outputs": [
    {
     "name": "stderr",
     "output_type": "stream",
     "text": [
      "No artists with labels found to put in legend.  Note that artists whose label start with an underscore are ignored when legend() is called with no argument.\n"
     ]
    },
    {
     "data": {
      "text/plain": [
       "[]"
      ]
     },
     "execution_count": 251,
     "metadata": {},
     "output_type": "execute_result"
    },
    {
     "data": {
      "image/png": "[encoded data removed]",
      "text/plain": [
       "<Figure size 432x288 with 1 Axes>"
      ]
     },
     "metadata": {
      "needs_background": "light"
     },
     "output_type": "display_data"
    }
   ],
   "source": [
    "# Plot line graph of Year-Month against Max Withdrawls\n",
    "plt.scatter(df_maxpermonth['Month'], df_maxpermonth['Max Withdrawls'], c = 'blue')\n",
    "plt.xlabel('Month')\n",
    "plt.ylabel('Maximum Withdrawls (10^7)')\n",
    "plt.title('Maximum Withdrawls in Each Year & Month')\n",
    "plt.xticks(rotation = 45)\n",
    "plt.legend(bbox_to_anchor=(1.02, 1), loc='upper left', borderaxespad=0)\n",
    "plt.plot()"
   ]
  },
  {
   "cell_type": "code",
   "execution_count": 252,
   "id": "359d1e08",
   "metadata": {},
   "outputs": [],
   "source": [
    "linear_regressor_year2155 = LinearRegression()  # create object for the class\n",
    "X_year2155 = df_maxpermonth.iloc[:, 1].values.reshape(-1, 1)\n",
    "Y_year2155 = df_maxpermonth.iloc[:, 2].values.reshape(-1, 1)\n",
    "linear_regressor_year2155.fit(X_year2155, Y_year2155)  # perform linear regression\n",
    "Y_pred_year2155 = linear_regressor_year2155.predict(X_year2155)  # make predictions"
   ]
  },
  {
   "cell_type": "code",
   "execution_count": 253,
   "id": "38a56a0b",
   "metadata": {},
   "outputs": [
    {
     "data": {
      "image/png": "[encoded data removed]",
      "text/plain": [
       "<Figure size 432x288 with 1 Axes>"
      ]
     },
     "metadata": {
      "needs_background": "light"
     },
     "output_type": "display_data"
    }
   ],
   "source": [
    "plt.scatter(X_year2155, Y_year2155)\n",
    "plt.plot(X_year2155, Y_pred_year2155, color='red')\n",
    "plt.show()"
   ]
  },
  {
   "cell_type": "code",
   "execution_count": 254,
   "id": "6272e298",
   "metadata": {},
   "outputs": [
    {
     "name": "stdout",
     "output_type": "stream",
     "text": [
      "Slope : -128910.53800000007\n",
      "Intercept : 4617591.864363638\n"
     ]
    }
   ],
   "source": [
    "print(\"Slope : \" + str(linear_regressor_year2155.coef_[0][0]) + \"\\n\" + \"Intercept : \" + str(linear_regressor_year2155.intercept_[0]))"
   ]
  },
  {
   "cell_type": "code",
   "execution_count": 255,
   "id": "ce238db1",
   "metadata": {},
   "outputs": [
    {
     "name": "stdout",
     "output_type": "stream",
     "text": [
      "Prediction of maximum expenditure for the year 12 is $3070665.41\n"
     ]
    }
   ],
   "source": [
    "def predict_next_month(slope, intercept, month):\n",
    "    return slope*month+intercept\n",
    "\n",
    "month = 12\n",
    "predicted_max = predict_next_year(linear_regressor_year2155.coef_, linear_regressor_year2155.intercept_, month)\n",
    "print(\"Prediction of maximum expenditure for the year \" + str(month) + \" is $\" + str(round(predicted_max[0][0],2))) "
   ]
  },
  {
   "cell_type": "code",
   "execution_count": null,
   "id": "7a54fafc",
   "metadata": {},
   "outputs": [],
   "source": []
  }
 ],
 "metadata": {
  "kernelspec": {
   "display_name": "Python 3 (ipykernel)",
   "language": "python",
   "name": "python3"
  },
  "language_info": {
   "codemirror_mode": {
    "name": "ipython",
    "version": 3
   },
   "file_extension": ".py",
   "mimetype": "text/x-python",
   "name": "python",
   "nbconvert_exporter": "python",
   "pygments_lexer": "ipython3",
   "version": "3.9.12"
  },
  "vscode": {
   "interpreter": {
    "hash": "23b4a3e8622309bcc6db3d5cc6eb73d60ab98d9ec23bad6a26b709981ccb403a"
   }
  }
 },
 "nbformat": 4,
 "nbformat_minor": 5
}
